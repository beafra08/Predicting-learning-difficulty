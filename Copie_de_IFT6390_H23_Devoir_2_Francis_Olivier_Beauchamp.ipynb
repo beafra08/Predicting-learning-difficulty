{
  "nbformat": 4,
  "nbformat_minor": 0,
  "metadata": {
    "colab": {
      "provenance": [],
      "include_colab_link": true
    },
    "kernelspec": {
      "name": "python3",
      "display_name": "Python 3"
    },
    "language_info": {
      "name": "python"
    }
  },
  "cells": [
    {
      "cell_type": "markdown",
      "metadata": {
        "id": "view-in-github",
        "colab_type": "text"
      },
      "source": [
        "<a href=\"https://colab.research.google.com/github/beafra08/Predicting-learning-difficulty/blob/main/Copie_de_IFT6390_H23_Devoir_2_Francis_Olivier_Beauchamp.ipynb\" target=\"_parent\"><img src=\"https://colab.research.google.com/assets/colab-badge.svg\" alt=\"Open In Colab\"/></a>"
      ]
    },
    {
      "cell_type": "markdown",
      "source": [
        "# ADequation: l'adéquation des connaissances en AD avec la pratique\n",
        "\n",
        "Nous allons développer dans ce devoir un outil de différentiation automatique qui reproduit l'essence des outils plus sophistiqués comme Autograd et JAX. Nous allons y parvenir à l'aide d'un \"traceur\" qui nous permettra de constuire un graphe de calcul de manière dynamique. Nous allons ensuite pouvoir utiliser ce graph de calcul pour implémenter l'accumulation arrière de manière récursive.   "
      ],
      "metadata": {
        "id": "qEBz86OOmogH"
      }
    },
    {
      "cell_type": "code",
      "source": [
        "import functools\n",
        "import numpy as onp\n",
        "import networkx as nx\n",
        "import matplotlib.pyplot as plt\n",
        "\n",
        "import jax\n",
        "import jax.numpy as jnp"
      ],
      "metadata": {
        "id": "3IXiVtoQNVH3"
      },
      "execution_count": null,
      "outputs": []
    },
    {
      "cell_type": "code",
      "source": [
        "%config InlineBackend.figure_format = 'svg'"
      ],
      "metadata": {
        "id": "UxPiXU9bQvKI"
      },
      "execution_count": null,
      "outputs": []
    },
    {
      "cell_type": "markdown",
      "source": [
        "# Visualisation\n",
        "\n",
        "Le code suivant sert à des fins de visualisation. Vous n'avez rien à implémenter vous-même ici. \n",
        "\n",
        "La fonction ``draw_computation_graph`` dessine le graphe de calcul à l'aide de la bibliothèque NetworkX et Matplotlib, et sauvegarde l'image dans un fichier PDF. La fonction ``convert_to_networkx`` convertit le graphe de calcul construit lors du traçage en partant du dernier nœud, et en visitant le graphe d'origine récursivement tout en ajoutant simultanément les nœuds et arêtes dans un graphe NetworkX."
      ],
      "metadata": {
        "id": "kQDCqh5lT1WJ"
      }
    },
    {
      "cell_type": "code",
      "source": [
        "def draw_computation_graph(graph, scale=20.):\n",
        "  pos = nx.multipartite_layout(graph, subset_key=\"layer\", scale=scale)\n",
        "  options = {\"edgecolors\": \"tab:gray\", \"node_size\": 3000, \"alpha\": 0.9, \"node_color\":\"tab:red\", \"font_color\":\"tan\", \"font_size\": 12}\n",
        "  fig, ax = plt.subplots(figsize=(5,4))\n",
        "  ax.set_ylim(-10, 10)\n",
        "  nx.draw(graph, ax=ax, pos=pos, connectionstyle='arc3, rad = 0.5', with_labels=True, **options)\n",
        "  ax.set_title(\"Computation Graph\")\n",
        "  fig.tight_layout()\n",
        "  fig.savefig('graph.pdf')\n",
        "\n",
        "def convert_to_networkx(node):\n",
        "  def add_node(graph, node):\n",
        "    if isinstance(node, onp.ndarray):\n",
        "      node = Node(value=node) # because numpy.ndarray is not hashable\n",
        "    graph.add_node(node)\n",
        "    if hasattr(node, 'parents'):\n",
        "      for p in node.parents:\n",
        "        if isinstance(p, onp.ndarray):\n",
        "          p = Node(value=p) # hashing\n",
        "        graph.add_edge(p, node)\n",
        "        graph = add_node(graph, p)\n",
        "    return graph\n",
        "      \n",
        "  graph = nx.MultiDiGraph()\n",
        "  graph = add_node(graph, node)\n",
        "\n",
        "  for layer, nodes in enumerate(reversed(list(nx.topological_generations(graph)))):\n",
        "    for node in nodes:\n",
        "      graph.nodes[node][\"layer\"] = layer\n",
        "  return graph"
      ],
      "metadata": {
        "id": "TCJCOxmgT189"
      },
      "execution_count": null,
      "outputs": []
    },
    {
      "cell_type": "markdown",
      "source": [
        "# Partie 1: traçage du code\n",
        "\n",
        "Cette classe est utilisée pour représenter les nœuds dans le graphe de calcul de la différentiation automatique en mode inverse. Les parents sont les nœuds qui ont contribué à la valeur actuelle de ce nœud, la valeur est la valeur calculée pour ce nœud, et la fonction est la fonction qui a été utilisée pour calculer cette valeur. Le code suivant est un composant clé de notre implémentation et permet de construire le graphe de calcul dynamiquement. "
      ],
      "metadata": {
        "id": "SpJH2MkyQww_"
      }
    },
    {
      "cell_type": "code",
      "source": [
        "class Node:\n",
        "  def __init__(self, parents=[], value=None, func=None):\n",
        "    self.parents = parents\n",
        "    self.value = value\n",
        "    self.func = func\n",
        "    self.adjoints = {}\n",
        "\n",
        "  def __add__(self, other_node):\n",
        "    return ad.add(self, other_node)\n",
        "\n",
        "  def __sub__(self, other_node):\n",
        "    return ad.subtract(self, other_node)\n",
        "\n",
        "  def __mul__(self, other_node):\n",
        "    return ad.multiply(self, other_node)\n",
        "\n",
        "  def __pow__(self, other_node):\n",
        "    return ad.power(self, other_node)\n",
        "    \n",
        "  def __str__(self):\n",
        "    label = str(self.value) if self.func is None else str(self.func.__name__)\n",
        "    return label\n",
        "\n",
        "  def __repr__(self):\n",
        "    return '<Node value=' + repr(self.value) + ', parents=' + repr(self.parents) + ', func=' + repr(self.func) + '>'"
      ],
      "metadata": {
        "id": "jyDxkfEdNTnX"
      },
      "execution_count": null,
      "outputs": []
    },
    {
      "cell_type": "markdown",
      "source": [
        "La fonction ``unbox`` prend une liste d'arguments et renvoie une nouvelle liste où chaque argument est remplacé par sa valeur s'il s'agit d'un objet ``Node``, ou laissé inchangé s'il ne l'est pas. Ce code sert donc à extraire les arguments enveloppés précédemment et de manipuler les objets d'origines directement. Nous allons utiliser cette fonction à chaque fois qu'une fonction tracée (décorée) est appelée pour développer (``unbox``) les arguments avant de les passer à la fonction d'origine (qui ne sait pas comment manipuler le type ``Node`` défini dans notre code). "
      ],
      "metadata": {
        "id": "zuLPVPXaQ_Do"
      }
    },
    {
      "cell_type": "code",
      "source": [
        "def unbox(args):\n",
        "    unboxed_args = []\n",
        "    for arg in args:\n",
        "        if isinstance(arg, Node):\n",
        "            unboxed_args.append(arg.value)\n",
        "        else:\n",
        "            unboxed_args.append(arg)\n",
        "    return unboxed_args"
      ],
      "metadata": {
        "id": "1uUECEnORQ9e"
      },
      "execution_count": null,
      "outputs": []
    },
    {
      "cell_type": "markdown",
      "source": [
        "La fonction ``trace`` prend une fonction ``func`` et une list de fonction ``vjp`` pour chaque argument. Elle renvoie une nouvelle fonction ``traced`` qui enveloppe ``func`` et renvoie un objet ``Node`` contenant la valeur calculée, les arguments d'origine et la fonction d'origine en tant qu'attributs. Lorsque le décorateur ``trace`` est appliqué sur une fonction primitive enveloppée, le dictionnaire  ``primitives`` est mis à jour avec ``func`` (clé) et son ``vjp``  correspondant (comme valeur pour la clé). Puisque nous allons supporter des primitives prenant plusieurs arguments, l'argument ``vjp`` doit être une liste de fonctions pour calculer la dérivée partielle de chaque argument."
      ],
      "metadata": {
        "id": "RzWJMYuvRSsm"
      }
    },
    {
      "cell_type": "markdown",
      "source": [
        "## Définition des vjps\n",
        "\n",
        "Nous pouvons maintenant définir un ensemble de primitives que nous souhaitons supporter dans notre système de différentiation automatique. Chaque fonction est décorée avec la fonction ``trace``, qui permet de tracer la fonction et d'ensuite appliquer la fonction de produit vecteur-Jacobien (vjp) correspondante lors de l'accumulation arrière. Nous stockons nos vjps dans un classe ``Adequation`` de manière à pouvoir dynamiquement changer l'espace de noms entre notre propre système de différentiation automatique et celui de JAX, pour des fins de vérifications. \n",
        "\n",
        "Définissez maintenant vous-même le vjp correspondant à la fonction ``numpy.dot``. Pour y arriver, notons que cette fonction est mathématiquement parlant, une fonction binaire de la forme $f(a, b) = a^\\top b$ si $a$ et $b$ sont des vecteurs ou $f(A, B) = A B$ si $A$ et $B$ sont des matrices. "
      ],
      "metadata": {
        "id": "_19TNIBTR6VM"
      }
    },
    {
      "cell_type": "code",
      "source": [
        "class Adequation():\n",
        "    primitives = {}\n",
        "\n",
        "    def trace(self, func, vjp):\n",
        "        @functools.wraps(func)\n",
        "        def traced(*args):\n",
        "            unboxed_args = []\n",
        "            for arg in args:\n",
        "                if isinstance(arg, Node):\n",
        "                    unboxed_args.append(arg.value) \n",
        "                else:\n",
        "                    unboxed_args.append(arg)\n",
        "\n",
        "            ans = func(*unboxed_args)\n",
        "            node = Node(parents=args, value=ans, func=func)\n",
        "\n",
        "            def gradient(g):\n",
        "                arg_values = unboxed_args\n",
        "                arg_grads = vjp(g, ans, *arg_values)\n",
        "                for parent, arg_grad in zip(node.parents, arg_grads[1:]):\n",
        "                    if isinstance(parent, Node):\n",
        "                        if parent.gradient is None:\n",
        "                            parent.gradient = arg_grad\n",
        "                        else:\n",
        "                            parent.gradient += arg_grad\n",
        "                    else:\n",
        "                        continue\n",
        "\n",
        "            if func in self.primitives:\n",
        "                self.primitives[func](node)\n",
        "\n",
        "            node.gradient = gradient\n",
        "            return node\n",
        "\n",
        "        return traced\n",
        "\n",
        "    def __init__(self):\n",
        "        self.add = self.trace(onp.add, vjp=(lambda g, ans, x, y: g, \n",
        "                              lambda g, ans, x, y: g))\n",
        "        self.subtract = self.trace(onp.subtract, vjp=(lambda g, ans, x, y: g, \n",
        "                                        lambda g, ans, x, y: -g))\n",
        "        self.multiply = self.trace(onp.multiply, vjp=(lambda g, ans, x, y: y*g, \n",
        "                                        lambda g, ans, x, y: x*g))\n",
        "        self.negative = self.trace(onp.negative, vjp=(lambda g, ans, x: -g,))\n",
        "        self.exp = self.trace(onp.exp, vjp=(lambda g, ans, x: ans * g,))\n",
        "        self.sin = self.trace(onp.sin, vjp=(lambda g, ans, x: g*onp.cos(x),))\n",
        "        self.cos = self.trace(onp.cos, vjp=(lambda g, ans, x: -g*onp.sin(x),))\n",
        "        self.power = self.trace(onp.power, \n",
        "                       vjp=(lambda g, ans, x, y : g * y * x ** onp.where(y, y - 1, 1.),\n",
        "                            lambda g, ans, x, y : g * onp.log(onp.where(x, x, 1.)) * ans))\n",
        "\n",
        "        self.dot = self.trace(onp.dot, vjp=(lambda g, ans, a, b: onp.dot(g, onp.transpose(b)), lambda g, ans, a, b: onp.dot(onp.transpose(a), g)))"
      ],
      "metadata": {
        "id": "ZkcZPzCRNfzk"
      },
      "execution_count": null,
      "outputs": []
    },
    {
      "cell_type": "markdown",
      "source": [
        "Passons maintenant à l'espace de nom de notre implémentation:"
      ],
      "metadata": {
        "id": "MfXuuBcsQed2"
      }
    },
    {
      "cell_type": "code",
      "source": [
        "ad = Adequation()"
      ],
      "metadata": {
        "id": "q4LMSVkaSjFV"
      },
      "execution_count": null,
      "outputs": []
    },
    {
      "cell_type": "markdown",
      "source": [
        "## Exemples\n",
        "\n",
        "Nous supportons la construction de graphe de calcul opérant autant sur des scalaires que des ``numpy.ndarray``\n",
        "\n"
      ],
      "metadata": {
        "id": "r8bUTBwzUNo3"
      }
    },
    {
      "cell_type": "code",
      "source": [
        "def f(x):\n",
        "  return ad.add(ad.cos(ad.sin(x)), x)\n",
        "end_node = f(Node(value=onp.array([1., 2.])))\n",
        "draw_computation_graph(convert_to_networkx(end_node))"
      ],
      "metadata": {
        "id": "B3m-Rv_KUuHW",
        "colab": {
          "base_uri": "https://localhost:8080/",
          "height": 394
        },
        "outputId": "248a2f7b-5fa8-483c-b329-74458f4c1611"
      },
      "execution_count": null,
      "outputs": [
        {
          "output_type": "display_data",
          "data": {
            "text/plain": [
              "<Figure size 360x288 with 1 Axes>"
            ],
            "image/svg+xml": "<?xml version=\"1.0\" encoding=\"utf-8\" standalone=\"no\"?>\n<!DOCTYPE svg PUBLIC \"-//W3C//DTD SVG 1.1//EN\"\n  \"http://www.w3.org/Graphics/SVG/1.1/DTD/svg11.dtd\">\n<svg xmlns:xlink=\"http://www.w3.org/1999/xlink\" width=\"352.8pt\" height=\"279.918125pt\" viewBox=\"0 0 352.8 279.918125\" xmlns=\"http://www.w3.org/2000/svg\" version=\"1.1\">\n <metadata>\n  <rdf:RDF xmlns:dc=\"http://purl.org/dc/elements/1.1/\" xmlns:cc=\"http://creativecommons.org/ns#\" xmlns:rdf=\"http://www.w3.org/1999/02/22-rdf-syntax-ns#\">\n   <cc:Work>\n    <dc:type rdf:resource=\"http://purl.org/dc/dcmitype/StillImage\"/>\n    <dc:date>2023-03-11T23:07:45.124366</dc:date>\n    <dc:format>image/svg+xml</dc:format>\n    <dc:creator>\n     <cc:Agent>\n      <dc:title>Matplotlib v3.5.3, https://matplotlib.org/</dc:title>\n     </cc:Agent>\n    </dc:creator>\n   </cc:Work>\n  </rdf:RDF>\n </metadata>\n <defs>\n  <style type=\"text/css\">*{stroke-linejoin: round; stroke-linecap: butt}</style>\n </defs>\n <g id=\"figure_1\">\n  <g id=\"patch_1\">\n   <path d=\"M 0 279.918125 \nL 352.8 279.918125 \nL 352.8 0 \nL 0 0 \nz\n\" style=\"fill: #ffffff\"/>\n  </g>\n  <g id=\"axes_1\">\n   <g id=\"patch_2\">\n    <path d=\"M 108.055899 130.851964 \nQ 83.177743 117.573187 59.285931 130.324595 \n\" clip-path=\"url(#pc56fe5ced6)\" style=\"fill: none; stroke: #000000; stroke-opacity: 0.9; stroke-linecap: round\"/>\n    <path d=\"M 63.756484 130.205621 \nL 59.285931 130.324595 \nL 61.873084 126.676768 \nL 63.756484 130.205621 \nz\n\" clip-path=\"url(#pc56fe5ced6)\" style=\"fill-opacity: 0.9; stroke: #000000; stroke-opacity: 0.9; stroke-linecap: round\"/>\n   </g>\n   <g id=\"patch_3\">\n    <path d=\"M 201.279039 130.851964 \nQ 176.400883 117.573187 152.509071 130.324595 \n\" clip-path=\"url(#pc56fe5ced6)\" style=\"fill: none; stroke: #000000; stroke-opacity: 0.9; stroke-linecap: round\"/>\n    <path d=\"M 156.979625 130.205621 \nL 152.509071 130.324595 \nL 155.096224 126.676768 \nL 156.979625 130.205621 \nz\n\" clip-path=\"url(#pc56fe5ced6)\" style=\"fill-opacity: 0.9; stroke: #000000; stroke-opacity: 0.9; stroke-linecap: round\"/>\n   </g>\n   <g id=\"patch_4\">\n    <path d=\"M 294.50218 130.851964 \nQ 269.624024 117.573187 245.732212 130.324595 \n\" clip-path=\"url(#pc56fe5ced6)\" style=\"fill: none; stroke: #000000; stroke-opacity: 0.9; stroke-linecap: round\"/>\n    <path d=\"M 250.202765 130.205621 \nL 245.732212 130.324595 \nL 248.319365 126.676768 \nL 250.202765 130.205621 \nz\n\" clip-path=\"url(#pc56fe5ced6)\" style=\"fill-opacity: 0.9; stroke: #000000; stroke-opacity: 0.9; stroke-linecap: round\"/>\n   </g>\n   <g id=\"patch_5\">\n    <path d=\"M 296.162916 128.886877 \nQ 176.400655 26.315223 57.487559 128.158487 \n\" clip-path=\"url(#pc56fe5ced6)\" style=\"fill: none; stroke: #000000; stroke-opacity: 0.9; stroke-linecap: round\"/>\n    <path d=\"M 61.8266 127.075566 \nL 57.487559 128.158487 \nL 59.224646 124.037501 \nL 61.8266 127.075566 \nz\n\" clip-path=\"url(#pc56fe5ced6)\" style=\"fill-opacity: 0.9; stroke: #000000; stroke-opacity: 0.9; stroke-linecap: round\"/>\n   </g>\n   <g id=\"PathCollection_1\">\n    <defs>\n     <path id=\"m0018791a64\" d=\"M 0 27.386128 \nC 7.262886 27.386128 14.229281 24.500553 19.364917 19.364917 \nC 24.500553 14.229281 27.386128 7.262886 27.386128 0 \nC 27.386128 -7.262886 24.500553 -14.229281 19.364917 -19.364917 \nC 14.229281 -24.500553 7.262886 -27.386128 0 -27.386128 \nC -7.262886 -27.386128 -14.229281 -24.500553 -19.364917 -19.364917 \nC -24.500553 -14.229281 -27.386128 -7.262886 -27.386128 0 \nC -27.386128 7.262886 -24.500553 14.229281 -19.364917 19.364917 \nC -14.229281 24.500553 -7.262886 27.386128 0 27.386128 \nz\n\" style=\"stroke: #7f7f7f; stroke-opacity: 0.9\"/>\n    </defs>\n    <g clip-path=\"url(#pc56fe5ced6)\">\n     <use xlink:href=\"#m0018791a64\" x=\"36.565289\" y=\"147.518125\" style=\"fill: #d62728; fill-opacity: 0.9; stroke: #7f7f7f; stroke-opacity: 0.9\"/>\n     <use xlink:href=\"#m0018791a64\" x=\"129.78843\" y=\"147.518125\" style=\"fill: #d62728; fill-opacity: 0.9; stroke: #7f7f7f; stroke-opacity: 0.9\"/>\n     <use xlink:href=\"#m0018791a64\" x=\"223.01157\" y=\"147.518125\" style=\"fill: #d62728; fill-opacity: 0.9; stroke: #7f7f7f; stroke-opacity: 0.9\"/>\n     <use xlink:href=\"#m0018791a64\" x=\"316.234711\" y=\"147.518125\" style=\"fill: #d62728; fill-opacity: 0.9; stroke: #7f7f7f; stroke-opacity: 0.9\"/>\n    </g>\n   </g>\n   <g id=\"text_1\">\n    <g clip-path=\"url(#pc56fe5ced6)\">\n     <!-- add -->\n     <g style=\"fill: #d2b48c; opacity: 0.9\" transform=\"translate(25.270289 150.829375)scale(0.12 -0.12)\">\n      <defs>\n       <path id=\"DejaVuSans-61\" d=\"M 2194 1759 \nQ 1497 1759 1228 1600 \nQ 959 1441 959 1056 \nQ 959 750 1161 570 \nQ 1363 391 1709 391 \nQ 2188 391 2477 730 \nQ 2766 1069 2766 1631 \nL 2766 1759 \nL 2194 1759 \nz\nM 3341 1997 \nL 3341 0 \nL 2766 0 \nL 2766 531 \nQ 2569 213 2275 61 \nQ 1981 -91 1556 -91 \nQ 1019 -91 701 211 \nQ 384 513 384 1019 \nQ 384 1609 779 1909 \nQ 1175 2209 1959 2209 \nL 2766 2209 \nL 2766 2266 \nQ 2766 2663 2505 2880 \nQ 2244 3097 1772 3097 \nQ 1472 3097 1187 3025 \nQ 903 2953 641 2809 \nL 641 3341 \nQ 956 3463 1253 3523 \nQ 1550 3584 1831 3584 \nQ 2591 3584 2966 3190 \nQ 3341 2797 3341 1997 \nz\n\" transform=\"scale(0.015625)\"/>\n       <path id=\"DejaVuSans-64\" d=\"M 2906 2969 \nL 2906 4863 \nL 3481 4863 \nL 3481 0 \nL 2906 0 \nL 2906 525 \nQ 2725 213 2448 61 \nQ 2172 -91 1784 -91 \nQ 1150 -91 751 415 \nQ 353 922 353 1747 \nQ 353 2572 751 3078 \nQ 1150 3584 1784 3584 \nQ 2172 3584 2448 3432 \nQ 2725 3281 2906 2969 \nz\nM 947 1747 \nQ 947 1113 1208 752 \nQ 1469 391 1925 391 \nQ 2381 391 2643 752 \nQ 2906 1113 2906 1747 \nQ 2906 2381 2643 2742 \nQ 2381 3103 1925 3103 \nQ 1469 3103 1208 2742 \nQ 947 2381 947 1747 \nz\n\" transform=\"scale(0.015625)\"/>\n      </defs>\n      <use xlink:href=\"#DejaVuSans-61\"/>\n      <use xlink:href=\"#DejaVuSans-64\" x=\"61.279297\"/>\n      <use xlink:href=\"#DejaVuSans-64\" x=\"124.755859\"/>\n     </g>\n    </g>\n   </g>\n   <g id=\"text_2\">\n    <g clip-path=\"url(#pc56fe5ced6)\">\n     <!-- cos -->\n     <g style=\"fill: #d2b48c; opacity: 0.9\" transform=\"translate(119.692492 150.829375)scale(0.12 -0.12)\">\n      <defs>\n       <path id=\"DejaVuSans-63\" d=\"M 3122 3366 \nL 3122 2828 \nQ 2878 2963 2633 3030 \nQ 2388 3097 2138 3097 \nQ 1578 3097 1268 2742 \nQ 959 2388 959 1747 \nQ 959 1106 1268 751 \nQ 1578 397 2138 397 \nQ 2388 397 2633 464 \nQ 2878 531 3122 666 \nL 3122 134 \nQ 2881 22 2623 -34 \nQ 2366 -91 2075 -91 \nQ 1284 -91 818 406 \nQ 353 903 353 1747 \nQ 353 2603 823 3093 \nQ 1294 3584 2113 3584 \nQ 2378 3584 2631 3529 \nQ 2884 3475 3122 3366 \nz\n\" transform=\"scale(0.015625)\"/>\n       <path id=\"DejaVuSans-6f\" d=\"M 1959 3097 \nQ 1497 3097 1228 2736 \nQ 959 2375 959 1747 \nQ 959 1119 1226 758 \nQ 1494 397 1959 397 \nQ 2419 397 2687 759 \nQ 2956 1122 2956 1747 \nQ 2956 2369 2687 2733 \nQ 2419 3097 1959 3097 \nz\nM 1959 3584 \nQ 2709 3584 3137 3096 \nQ 3566 2609 3566 1747 \nQ 3566 888 3137 398 \nQ 2709 -91 1959 -91 \nQ 1206 -91 779 398 \nQ 353 888 353 1747 \nQ 353 2609 779 3096 \nQ 1206 3584 1959 3584 \nz\n\" transform=\"scale(0.015625)\"/>\n       <path id=\"DejaVuSans-73\" d=\"M 2834 3397 \nL 2834 2853 \nQ 2591 2978 2328 3040 \nQ 2066 3103 1784 3103 \nQ 1356 3103 1142 2972 \nQ 928 2841 928 2578 \nQ 928 2378 1081 2264 \nQ 1234 2150 1697 2047 \nL 1894 2003 \nQ 2506 1872 2764 1633 \nQ 3022 1394 3022 966 \nQ 3022 478 2636 193 \nQ 2250 -91 1575 -91 \nQ 1294 -91 989 -36 \nQ 684 19 347 128 \nL 347 722 \nQ 666 556 975 473 \nQ 1284 391 1588 391 \nQ 1994 391 2212 530 \nQ 2431 669 2431 922 \nQ 2431 1156 2273 1281 \nQ 2116 1406 1581 1522 \nL 1381 1569 \nQ 847 1681 609 1914 \nQ 372 2147 372 2553 \nQ 372 3047 722 3315 \nQ 1072 3584 1716 3584 \nQ 2034 3584 2315 3537 \nQ 2597 3491 2834 3397 \nz\n\" transform=\"scale(0.015625)\"/>\n      </defs>\n      <use xlink:href=\"#DejaVuSans-63\"/>\n      <use xlink:href=\"#DejaVuSans-6f\" x=\"54.980469\"/>\n      <use xlink:href=\"#DejaVuSans-73\" x=\"116.162109\"/>\n     </g>\n    </g>\n   </g>\n   <g id=\"text_3\">\n    <g clip-path=\"url(#pc56fe5ced6)\">\n     <!-- sin -->\n     <g style=\"fill: #d2b48c; opacity: 0.9\" transform=\"translate(214.41657 150.829375)scale(0.12 -0.12)\">\n      <defs>\n       <path id=\"DejaVuSans-69\" d=\"M 603 3500 \nL 1178 3500 \nL 1178 0 \nL 603 0 \nL 603 3500 \nz\nM 603 4863 \nL 1178 4863 \nL 1178 4134 \nL 603 4134 \nL 603 4863 \nz\n\" transform=\"scale(0.015625)\"/>\n       <path id=\"DejaVuSans-6e\" d=\"M 3513 2113 \nL 3513 0 \nL 2938 0 \nL 2938 2094 \nQ 2938 2591 2744 2837 \nQ 2550 3084 2163 3084 \nQ 1697 3084 1428 2787 \nQ 1159 2491 1159 1978 \nL 1159 0 \nL 581 0 \nL 581 3500 \nL 1159 3500 \nL 1159 2956 \nQ 1366 3272 1645 3428 \nQ 1925 3584 2291 3584 \nQ 2894 3584 3203 3211 \nQ 3513 2838 3513 2113 \nz\n\" transform=\"scale(0.015625)\"/>\n      </defs>\n      <use xlink:href=\"#DejaVuSans-73\"/>\n      <use xlink:href=\"#DejaVuSans-69\" x=\"52.099609\"/>\n      <use xlink:href=\"#DejaVuSans-6e\" x=\"79.882812\"/>\n     </g>\n    </g>\n   </g>\n   <g id=\"text_4\">\n    <g clip-path=\"url(#pc56fe5ced6)\">\n     <!-- [1. 2.] -->\n     <g style=\"fill: #d2b48c; opacity: 0.9\" transform=\"translate(298.197211 150.829375)scale(0.12 -0.12)\">\n      <defs>\n       <path id=\"DejaVuSans-5b\" d=\"M 550 4863 \nL 1875 4863 \nL 1875 4416 \nL 1125 4416 \nL 1125 -397 \nL 1875 -397 \nL 1875 -844 \nL 550 -844 \nL 550 4863 \nz\n\" transform=\"scale(0.015625)\"/>\n       <path id=\"DejaVuSans-31\" d=\"M 794 531 \nL 1825 531 \nL 1825 4091 \nL 703 3866 \nL 703 4441 \nL 1819 4666 \nL 2450 4666 \nL 2450 531 \nL 3481 531 \nL 3481 0 \nL 794 0 \nL 794 531 \nz\n\" transform=\"scale(0.015625)\"/>\n       <path id=\"DejaVuSans-2e\" d=\"M 684 794 \nL 1344 794 \nL 1344 0 \nL 684 0 \nL 684 794 \nz\n\" transform=\"scale(0.015625)\"/>\n       <path id=\"DejaVuSans-20\" transform=\"scale(0.015625)\"/>\n       <path id=\"DejaVuSans-32\" d=\"M 1228 531 \nL 3431 531 \nL 3431 0 \nL 469 0 \nL 469 531 \nQ 828 903 1448 1529 \nQ 2069 2156 2228 2338 \nQ 2531 2678 2651 2914 \nQ 2772 3150 2772 3378 \nQ 2772 3750 2511 3984 \nQ 2250 4219 1831 4219 \nQ 1534 4219 1204 4116 \nQ 875 4013 500 3803 \nL 500 4441 \nQ 881 4594 1212 4672 \nQ 1544 4750 1819 4750 \nQ 2544 4750 2975 4387 \nQ 3406 4025 3406 3419 \nQ 3406 3131 3298 2873 \nQ 3191 2616 2906 2266 \nQ 2828 2175 2409 1742 \nQ 1991 1309 1228 531 \nz\n\" transform=\"scale(0.015625)\"/>\n       <path id=\"DejaVuSans-5d\" d=\"M 1947 4863 \nL 1947 -844 \nL 622 -844 \nL 622 -397 \nL 1369 -397 \nL 1369 4416 \nL 622 4416 \nL 622 4863 \nL 1947 4863 \nz\n\" transform=\"scale(0.015625)\"/>\n      </defs>\n      <use xlink:href=\"#DejaVuSans-5b\"/>\n      <use xlink:href=\"#DejaVuSans-31\" x=\"39.013672\"/>\n      <use xlink:href=\"#DejaVuSans-2e\" x=\"102.636719\"/>\n      <use xlink:href=\"#DejaVuSans-20\" x=\"134.423828\"/>\n      <use xlink:href=\"#DejaVuSans-32\" x=\"166.210938\"/>\n      <use xlink:href=\"#DejaVuSans-2e\" x=\"229.833984\"/>\n      <use xlink:href=\"#DejaVuSans-5d\" x=\"261.621094\"/>\n     </g>\n    </g>\n   </g>\n   <g id=\"text_5\">\n    <!-- Computation Graph -->\n    <g transform=\"translate(117.250312 16.318125)scale(0.12 -0.12)\">\n     <defs>\n      <path id=\"DejaVuSans-43\" d=\"M 4122 4306 \nL 4122 3641 \nQ 3803 3938 3442 4084 \nQ 3081 4231 2675 4231 \nQ 1875 4231 1450 3742 \nQ 1025 3253 1025 2328 \nQ 1025 1406 1450 917 \nQ 1875 428 2675 428 \nQ 3081 428 3442 575 \nQ 3803 722 4122 1019 \nL 4122 359 \nQ 3791 134 3420 21 \nQ 3050 -91 2638 -91 \nQ 1578 -91 968 557 \nQ 359 1206 359 2328 \nQ 359 3453 968 4101 \nQ 1578 4750 2638 4750 \nQ 3056 4750 3426 4639 \nQ 3797 4528 4122 4306 \nz\n\" transform=\"scale(0.015625)\"/>\n      <path id=\"DejaVuSans-6d\" d=\"M 3328 2828 \nQ 3544 3216 3844 3400 \nQ 4144 3584 4550 3584 \nQ 5097 3584 5394 3201 \nQ 5691 2819 5691 2113 \nL 5691 0 \nL 5113 0 \nL 5113 2094 \nQ 5113 2597 4934 2840 \nQ 4756 3084 4391 3084 \nQ 3944 3084 3684 2787 \nQ 3425 2491 3425 1978 \nL 3425 0 \nL 2847 0 \nL 2847 2094 \nQ 2847 2600 2669 2842 \nQ 2491 3084 2119 3084 \nQ 1678 3084 1418 2786 \nQ 1159 2488 1159 1978 \nL 1159 0 \nL 581 0 \nL 581 3500 \nL 1159 3500 \nL 1159 2956 \nQ 1356 3278 1631 3431 \nQ 1906 3584 2284 3584 \nQ 2666 3584 2933 3390 \nQ 3200 3197 3328 2828 \nz\n\" transform=\"scale(0.015625)\"/>\n      <path id=\"DejaVuSans-70\" d=\"M 1159 525 \nL 1159 -1331 \nL 581 -1331 \nL 581 3500 \nL 1159 3500 \nL 1159 2969 \nQ 1341 3281 1617 3432 \nQ 1894 3584 2278 3584 \nQ 2916 3584 3314 3078 \nQ 3713 2572 3713 1747 \nQ 3713 922 3314 415 \nQ 2916 -91 2278 -91 \nQ 1894 -91 1617 61 \nQ 1341 213 1159 525 \nz\nM 3116 1747 \nQ 3116 2381 2855 2742 \nQ 2594 3103 2138 3103 \nQ 1681 3103 1420 2742 \nQ 1159 2381 1159 1747 \nQ 1159 1113 1420 752 \nQ 1681 391 2138 391 \nQ 2594 391 2855 752 \nQ 3116 1113 3116 1747 \nz\n\" transform=\"scale(0.015625)\"/>\n      <path id=\"DejaVuSans-75\" d=\"M 544 1381 \nL 544 3500 \nL 1119 3500 \nL 1119 1403 \nQ 1119 906 1312 657 \nQ 1506 409 1894 409 \nQ 2359 409 2629 706 \nQ 2900 1003 2900 1516 \nL 2900 3500 \nL 3475 3500 \nL 3475 0 \nL 2900 0 \nL 2900 538 \nQ 2691 219 2414 64 \nQ 2138 -91 1772 -91 \nQ 1169 -91 856 284 \nQ 544 659 544 1381 \nz\nM 1991 3584 \nL 1991 3584 \nz\n\" transform=\"scale(0.015625)\"/>\n      <path id=\"DejaVuSans-74\" d=\"M 1172 4494 \nL 1172 3500 \nL 2356 3500 \nL 2356 3053 \nL 1172 3053 \nL 1172 1153 \nQ 1172 725 1289 603 \nQ 1406 481 1766 481 \nL 2356 481 \nL 2356 0 \nL 1766 0 \nQ 1100 0 847 248 \nQ 594 497 594 1153 \nL 594 3053 \nL 172 3053 \nL 172 3500 \nL 594 3500 \nL 594 4494 \nL 1172 4494 \nz\n\" transform=\"scale(0.015625)\"/>\n      <path id=\"DejaVuSans-47\" d=\"M 3809 666 \nL 3809 1919 \nL 2778 1919 \nL 2778 2438 \nL 4434 2438 \nL 4434 434 \nQ 4069 175 3628 42 \nQ 3188 -91 2688 -91 \nQ 1594 -91 976 548 \nQ 359 1188 359 2328 \nQ 359 3472 976 4111 \nQ 1594 4750 2688 4750 \nQ 3144 4750 3555 4637 \nQ 3966 4525 4313 4306 \nL 4313 3634 \nQ 3963 3931 3569 4081 \nQ 3175 4231 2741 4231 \nQ 1884 4231 1454 3753 \nQ 1025 3275 1025 2328 \nQ 1025 1384 1454 906 \nQ 1884 428 2741 428 \nQ 3075 428 3337 486 \nQ 3600 544 3809 666 \nz\n\" transform=\"scale(0.015625)\"/>\n      <path id=\"DejaVuSans-72\" d=\"M 2631 2963 \nQ 2534 3019 2420 3045 \nQ 2306 3072 2169 3072 \nQ 1681 3072 1420 2755 \nQ 1159 2438 1159 1844 \nL 1159 0 \nL 581 0 \nL 581 3500 \nL 1159 3500 \nL 1159 2956 \nQ 1341 3275 1631 3429 \nQ 1922 3584 2338 3584 \nQ 2397 3584 2469 3576 \nQ 2541 3569 2628 3553 \nL 2631 2963 \nz\n\" transform=\"scale(0.015625)\"/>\n      <path id=\"DejaVuSans-68\" d=\"M 3513 2113 \nL 3513 0 \nL 2938 0 \nL 2938 2094 \nQ 2938 2591 2744 2837 \nQ 2550 3084 2163 3084 \nQ 1697 3084 1428 2787 \nQ 1159 2491 1159 1978 \nL 1159 0 \nL 581 0 \nL 581 4863 \nL 1159 4863 \nL 1159 2956 \nQ 1366 3272 1645 3428 \nQ 1925 3584 2291 3584 \nQ 2894 3584 3203 3211 \nQ 3513 2838 3513 2113 \nz\n\" transform=\"scale(0.015625)\"/>\n     </defs>\n     <use xlink:href=\"#DejaVuSans-43\"/>\n     <use xlink:href=\"#DejaVuSans-6f\" x=\"69.824219\"/>\n     <use xlink:href=\"#DejaVuSans-6d\" x=\"131.005859\"/>\n     <use xlink:href=\"#DejaVuSans-70\" x=\"228.417969\"/>\n     <use xlink:href=\"#DejaVuSans-75\" x=\"291.894531\"/>\n     <use xlink:href=\"#DejaVuSans-74\" x=\"355.273438\"/>\n     <use xlink:href=\"#DejaVuSans-61\" x=\"394.482422\"/>\n     <use xlink:href=\"#DejaVuSans-74\" x=\"455.761719\"/>\n     <use xlink:href=\"#DejaVuSans-69\" x=\"494.970703\"/>\n     <use xlink:href=\"#DejaVuSans-6f\" x=\"522.753906\"/>\n     <use xlink:href=\"#DejaVuSans-6e\" x=\"583.935547\"/>\n     <use xlink:href=\"#DejaVuSans-20\" x=\"647.314453\"/>\n     <use xlink:href=\"#DejaVuSans-47\" x=\"679.101562\"/>\n     <use xlink:href=\"#DejaVuSans-72\" x=\"756.591797\"/>\n     <use xlink:href=\"#DejaVuSans-61\" x=\"797.705078\"/>\n     <use xlink:href=\"#DejaVuSans-70\" x=\"858.984375\"/>\n     <use xlink:href=\"#DejaVuSans-68\" x=\"922.460938\"/>\n    </g>\n   </g>\n  </g>\n </g>\n <defs>\n  <clipPath id=\"pc56fe5ced6\">\n   <rect x=\"7.2\" y=\"22.318125\" width=\"338.4\" height=\"250.4\"/>\n  </clipPath>\n </defs>\n</svg>\n"
          },
          "metadata": {}
        }
      ]
    },
    {
      "cell_type": "markdown",
      "source": [
        "À des fins esthétiques, nous pouvons également surcharger les opérateurs $+$, $-$, $*$ et $**$ en python pour appeler nos fonctions enveloppées correspondantes. Note: la classe ``Node`` utilise l'espace de nom ``ad``."
      ],
      "metadata": {
        "id": "rMTcXQi7Lsaa"
      }
    },
    {
      "cell_type": "code",
      "source": [
        "def f(x):\n",
        "  x1 = x + 1\n",
        "  x2 = ad.negative(x1)\n",
        "  x3 = ad.add(x1, x2)\n",
        "  x4 = x3**2.\n",
        "  return x * x4\n",
        "end_node = f(Node(value=2.))\n",
        "draw_computation_graph(convert_to_networkx(end_node))"
      ],
      "metadata": {
        "id": "ad4yXajNa5iW",
        "colab": {
          "base_uri": "https://localhost:8080/",
          "height": 394
        },
        "outputId": "db1048d5-0360-48a6-ad27-4cd3ec19817b"
      },
      "execution_count": null,
      "outputs": [
        {
          "output_type": "display_data",
          "data": {
            "text/plain": [
              "<Figure size 360x288 with 1 Axes>"
            ],
            "image/svg+xml": "<?xml version=\"1.0\" encoding=\"utf-8\" standalone=\"no\"?>\n<!DOCTYPE svg PUBLIC \"-//W3C//DTD SVG 1.1//EN\"\n  \"http://www.w3.org/Graphics/SVG/1.1/DTD/svg11.dtd\">\n<svg xmlns:xlink=\"http://www.w3.org/1999/xlink\" width=\"352.8pt\" height=\"279.918125pt\" viewBox=\"0 0 352.8 279.918125\" xmlns=\"http://www.w3.org/2000/svg\" version=\"1.1\">\n <metadata>\n  <rdf:RDF xmlns:dc=\"http://purl.org/dc/elements/1.1/\" xmlns:cc=\"http://creativecommons.org/ns#\" xmlns:rdf=\"http://www.w3.org/1999/02/22-rdf-syntax-ns#\">\n   <cc:Work>\n    <dc:type rdf:resource=\"http://purl.org/dc/dcmitype/StillImage\"/>\n    <dc:date>2023-03-11T23:07:47.513196</dc:date>\n    <dc:format>image/svg+xml</dc:format>\n    <dc:creator>\n     <cc:Agent>\n      <dc:title>Matplotlib v3.5.3, https://matplotlib.org/</dc:title>\n     </cc:Agent>\n    </dc:creator>\n   </cc:Work>\n  </rdf:RDF>\n </metadata>\n <defs>\n  <style type=\"text/css\">*{stroke-linejoin: round; stroke-linecap: butt}</style>\n </defs>\n <g id=\"figure_1\">\n  <g id=\"patch_1\">\n   <path d=\"M 0 279.918125 \nL 352.8 279.918125 \nL 352.8 0 \nL 0 0 \nz\n\" style=\"fill: #ffffff\"/>\n  </g>\n  <g id=\"axes_1\">\n   <g id=\"patch_2\">\n    <path d=\"M 291.824682 54.9692 \nQ 141.476147 -14.438923 51.306786 123.121001 \n\" clip-path=\"url(#p8cef2f3dc2)\" style=\"fill: none; stroke: #000000; stroke-opacity: 0.9; stroke-linecap: round\"/>\n    <path d=\"M 55.172315 120.872072 \nL 51.306786 123.121001 \nL 51.82696 118.67922 \nL 55.172315 120.872072 \nz\n\" clip-path=\"url(#p8cef2f3dc2)\" style=\"fill-opacity: 0.9; stroke: #000000; stroke-opacity: 0.9; stroke-linecap: round\"/>\n   </g>\n   <g id=\"patch_3\">\n    <path d=\"M 290.068517 75.473776 \nQ 262.002298 89.120156 258.980696 119.058344 \n\" clip-path=\"url(#p8cef2f3dc2)\" style=\"fill: none; stroke: #000000; stroke-opacity: 0.9; stroke-linecap: round\"/>\n    <path d=\"M 261.372258 115.279398 \nL 258.980696 119.058344 \nL 257.392477 114.877726 \nL 261.372258 115.279398 \nz\n\" clip-path=\"url(#p8cef2f3dc2)\" style=\"fill-opacity: 0.9; stroke: #000000; stroke-opacity: 0.9; stroke-linecap: round\"/>\n   </g>\n   <g id=\"patch_4\">\n    <path d=\"M 290.068517 75.473776 \nQ 262.002298 89.120156 258.980696 119.058344 \n\" clip-path=\"url(#p8cef2f3dc2)\" style=\"fill: none; stroke: #000000; stroke-opacity: 0.9; stroke-linecap: round\"/>\n    <path d=\"M 261.372258 115.279398 \nL 258.980696 119.058344 \nL 257.392477 114.877726 \nL 261.372258 115.279398 \nz\n\" clip-path=\"url(#p8cef2f3dc2)\" style=\"fill-opacity: 0.9; stroke: #000000; stroke-opacity: 0.9; stroke-linecap: round\"/>\n   </g>\n   <g id=\"patch_5\">\n    <path d=\"M 68.762095 133.854527 \nQ 64.531155 133.214618 61.405664 133.687574 \n\" clip-path=\"url(#p8cef2f3dc2)\" style=\"fill: none; stroke: #000000; stroke-opacity: 0.9; stroke-linecap: round\"/>\n    <path d=\"M 65.659876 135.066586 \nL 61.405664 133.687574 \nL 65.061401 131.111611 \nL 65.659876 135.066586 \nz\n\" clip-path=\"url(#p8cef2f3dc2)\" style=\"fill-opacity: 0.9; stroke: #000000; stroke-opacity: 0.9; stroke-linecap: round\"/>\n   </g>\n   <g id=\"patch_6\">\n    <path d=\"M 124.695979 133.854527 \nQ 120.465039 133.214618 117.339548 133.687574 \n\" clip-path=\"url(#p8cef2f3dc2)\" style=\"fill: none; stroke: #000000; stroke-opacity: 0.9; stroke-linecap: round\"/>\n    <path d=\"M 121.593761 135.066586 \nL 117.339548 133.687574 \nL 120.995286 131.111611 \nL 121.593761 135.066586 \nz\n\" clip-path=\"url(#p8cef2f3dc2)\" style=\"fill-opacity: 0.9; stroke: #000000; stroke-opacity: 0.9; stroke-linecap: round\"/>\n   </g>\n   <g id=\"patch_7\">\n    <path d=\"M 239.014952 130.282465 \nQ 204.365332 108.818903 170.666143 129.695665 \n\" clip-path=\"url(#p8cef2f3dc2)\" style=\"fill: none; stroke: #000000; stroke-opacity: 0.9; stroke-linecap: round\"/>\n    <path d=\"M 175.119779 129.289309 \nL 170.666143 129.695665 \nL 173.013241 125.888942 \nL 175.119779 129.289309 \nz\n\" clip-path=\"url(#p8cef2f3dc2)\" style=\"fill-opacity: 0.9; stroke: #000000; stroke-opacity: 0.9; stroke-linecap: round\"/>\n   </g>\n   <g id=\"patch_8\">\n    <path d=\"M 236.563748 133.854527 \nQ 232.332808 133.214618 229.207317 133.687574 \n\" clip-path=\"url(#p8cef2f3dc2)\" style=\"fill: none; stroke: #000000; stroke-opacity: 0.9; stroke-linecap: round\"/>\n    <path d=\"M 233.461529 135.066586 \nL 229.207317 133.687574 \nL 232.863054 131.111611 \nL 233.461529 135.066586 \nz\n\" clip-path=\"url(#p8cef2f3dc2)\" style=\"fill-opacity: 0.9; stroke: #000000; stroke-opacity: 0.9; stroke-linecap: round\"/>\n   </g>\n   <g id=\"patch_9\">\n    <path d=\"M 292.497632 133.854527 \nQ 288.266692 133.214618 285.141201 133.687574 \n\" clip-path=\"url(#p8cef2f3dc2)\" style=\"fill: none; stroke: #000000; stroke-opacity: 0.9; stroke-linecap: round\"/>\n    <path d=\"M 289.395414 135.066586 \nL 285.141201 133.687574 \nL 288.796938 131.111611 \nL 289.395414 135.066586 \nz\n\" clip-path=\"url(#p8cef2f3dc2)\" style=\"fill-opacity: 0.9; stroke: #000000; stroke-opacity: 0.9; stroke-linecap: round\"/>\n   </g>\n   <g id=\"patch_10\">\n    <path d=\"M 292.497632 133.854527 \nQ 288.266692 133.214618 285.141201 133.687574 \n\" clip-path=\"url(#p8cef2f3dc2)\" style=\"fill: none; stroke: #000000; stroke-opacity: 0.9; stroke-linecap: round\"/>\n    <path d=\"M 289.395414 135.066586 \nL 285.141201 133.687574 \nL 288.796938 131.111611 \nL 289.395414 135.066586 \nz\n\" clip-path=\"url(#p8cef2f3dc2)\" style=\"fill-opacity: 0.9; stroke: #000000; stroke-opacity: 0.9; stroke-linecap: round\"/>\n   </g>\n   <g id=\"patch_11\">\n    <path d=\"M 180.629863 133.854527 \nQ 176.398923 133.214618 173.273432 133.687574 \n\" clip-path=\"url(#p8cef2f3dc2)\" style=\"fill: none; stroke: #000000; stroke-opacity: 0.9; stroke-linecap: round\"/>\n    <path d=\"M 177.527645 135.066586 \nL 173.273432 133.687574 \nL 176.92917 131.111611 \nL 177.527645 135.066586 \nz\n\" clip-path=\"url(#p8cef2f3dc2)\" style=\"fill-opacity: 0.9; stroke: #000000; stroke-opacity: 0.9; stroke-linecap: round\"/>\n   </g>\n   <g id=\"patch_12\">\n    <path d=\"M 303.44809 203.432429 \nQ 238.199013 93.117434 118.803035 136.544469 \n\" clip-path=\"url(#p8cef2f3dc2)\" style=\"fill: none; stroke: #000000; stroke-opacity: 0.9; stroke-linecap: round\"/>\n    <path d=\"M 123.245734 137.056745 \nL 118.803035 136.544469 \nL 121.878475 133.297676 \nL 123.245734 137.056745 \nz\n\" clip-path=\"url(#p8cef2f3dc2)\" style=\"fill-opacity: 0.9; stroke: #000000; stroke-opacity: 0.9; stroke-linecap: round\"/>\n   </g>\n   <g id=\"PathCollection_1\">\n    <defs>\n     <path id=\"m3fbb73ebdc\" d=\"M 0 27.386128 \nC 7.262886 27.386128 14.229281 24.500553 19.364917 19.364917 \nC 24.500553 14.229281 27.386128 7.262886 27.386128 0 \nC 27.386128 -7.262886 24.500553 -14.229281 19.364917 -19.364917 \nC 14.229281 -24.500553 7.262886 -27.386128 0 -27.386128 \nC -7.262886 -27.386128 -14.229281 -24.500553 -19.364917 -19.364917 \nC -24.500553 -14.229281 -27.386128 -7.262886 -27.386128 0 \nC -27.386128 7.262886 -24.500553 14.229281 -19.364917 19.364917 \nC -14.229281 24.500553 -7.262886 27.386128 0 27.386128 \nz\n\" style=\"stroke: #7f7f7f; stroke-opacity: 0.9\"/>\n    </defs>\n    <g clip-path=\"url(#p8cef2f3dc2)\">\n     <use xlink:href=\"#m3fbb73ebdc\" x=\"36.565289\" y=\"147.518125\" style=\"fill: #d62728; fill-opacity: 0.9; stroke: #7f7f7f; stroke-opacity: 0.9\"/>\n     <use xlink:href=\"#m3fbb73ebdc\" x=\"316.234711\" y=\"67.390125\" style=\"fill: #d62728; fill-opacity: 0.9; stroke: #7f7f7f; stroke-opacity: 0.9\"/>\n     <use xlink:href=\"#m3fbb73ebdc\" x=\"92.499174\" y=\"147.518125\" style=\"fill: #d62728; fill-opacity: 0.9; stroke: #7f7f7f; stroke-opacity: 0.9\"/>\n     <use xlink:href=\"#m3fbb73ebdc\" x=\"148.433058\" y=\"147.518125\" style=\"fill: #d62728; fill-opacity: 0.9; stroke: #7f7f7f; stroke-opacity: 0.9\"/>\n     <use xlink:href=\"#m3fbb73ebdc\" x=\"260.300826\" y=\"147.518125\" style=\"fill: #d62728; fill-opacity: 0.9; stroke: #7f7f7f; stroke-opacity: 0.9\"/>\n     <use xlink:href=\"#m3fbb73ebdc\" x=\"316.234711\" y=\"147.518125\" style=\"fill: #d62728; fill-opacity: 0.9; stroke: #7f7f7f; stroke-opacity: 0.9\"/>\n     <use xlink:href=\"#m3fbb73ebdc\" x=\"204.366942\" y=\"147.518125\" style=\"fill: #d62728; fill-opacity: 0.9; stroke: #7f7f7f; stroke-opacity: 0.9\"/>\n     <use xlink:href=\"#m3fbb73ebdc\" x=\"316.234711\" y=\"227.646125\" style=\"fill: #d62728; fill-opacity: 0.9; stroke: #7f7f7f; stroke-opacity: 0.9\"/>\n    </g>\n   </g>\n   <g id=\"text_1\">\n    <g clip-path=\"url(#p8cef2f3dc2)\">\n     <!-- multiply -->\n     <g style=\"fill: #d2b48c; opacity: 0.9\" transform=\"translate(12.205289 150.829375)scale(0.12 -0.12)\">\n      <defs>\n       <path id=\"DejaVuSans-6d\" d=\"M 3328 2828 \nQ 3544 3216 3844 3400 \nQ 4144 3584 4550 3584 \nQ 5097 3584 5394 3201 \nQ 5691 2819 5691 2113 \nL 5691 0 \nL 5113 0 \nL 5113 2094 \nQ 5113 2597 4934 2840 \nQ 4756 3084 4391 3084 \nQ 3944 3084 3684 2787 \nQ 3425 2491 3425 1978 \nL 3425 0 \nL 2847 0 \nL 2847 2094 \nQ 2847 2600 2669 2842 \nQ 2491 3084 2119 3084 \nQ 1678 3084 1418 2786 \nQ 1159 2488 1159 1978 \nL 1159 0 \nL 581 0 \nL 581 3500 \nL 1159 3500 \nL 1159 2956 \nQ 1356 3278 1631 3431 \nQ 1906 3584 2284 3584 \nQ 2666 3584 2933 3390 \nQ 3200 3197 3328 2828 \nz\n\" transform=\"scale(0.015625)\"/>\n       <path id=\"DejaVuSans-75\" d=\"M 544 1381 \nL 544 3500 \nL 1119 3500 \nL 1119 1403 \nQ 1119 906 1312 657 \nQ 1506 409 1894 409 \nQ 2359 409 2629 706 \nQ 2900 1003 2900 1516 \nL 2900 3500 \nL 3475 3500 \nL 3475 0 \nL 2900 0 \nL 2900 538 \nQ 2691 219 2414 64 \nQ 2138 -91 1772 -91 \nQ 1169 -91 856 284 \nQ 544 659 544 1381 \nz\nM 1991 3584 \nL 1991 3584 \nz\n\" transform=\"scale(0.015625)\"/>\n       <path id=\"DejaVuSans-6c\" d=\"M 603 4863 \nL 1178 4863 \nL 1178 0 \nL 603 0 \nL 603 4863 \nz\n\" transform=\"scale(0.015625)\"/>\n       <path id=\"DejaVuSans-74\" d=\"M 1172 4494 \nL 1172 3500 \nL 2356 3500 \nL 2356 3053 \nL 1172 3053 \nL 1172 1153 \nQ 1172 725 1289 603 \nQ 1406 481 1766 481 \nL 2356 481 \nL 2356 0 \nL 1766 0 \nQ 1100 0 847 248 \nQ 594 497 594 1153 \nL 594 3053 \nL 172 3053 \nL 172 3500 \nL 594 3500 \nL 594 4494 \nL 1172 4494 \nz\n\" transform=\"scale(0.015625)\"/>\n       <path id=\"DejaVuSans-69\" d=\"M 603 3500 \nL 1178 3500 \nL 1178 0 \nL 603 0 \nL 603 3500 \nz\nM 603 4863 \nL 1178 4863 \nL 1178 4134 \nL 603 4134 \nL 603 4863 \nz\n\" transform=\"scale(0.015625)\"/>\n       <path id=\"DejaVuSans-70\" d=\"M 1159 525 \nL 1159 -1331 \nL 581 -1331 \nL 581 3500 \nL 1159 3500 \nL 1159 2969 \nQ 1341 3281 1617 3432 \nQ 1894 3584 2278 3584 \nQ 2916 3584 3314 3078 \nQ 3713 2572 3713 1747 \nQ 3713 922 3314 415 \nQ 2916 -91 2278 -91 \nQ 1894 -91 1617 61 \nQ 1341 213 1159 525 \nz\nM 3116 1747 \nQ 3116 2381 2855 2742 \nQ 2594 3103 2138 3103 \nQ 1681 3103 1420 2742 \nQ 1159 2381 1159 1747 \nQ 1159 1113 1420 752 \nQ 1681 391 2138 391 \nQ 2594 391 2855 752 \nQ 3116 1113 3116 1747 \nz\n\" transform=\"scale(0.015625)\"/>\n       <path id=\"DejaVuSans-79\" d=\"M 2059 -325 \nQ 1816 -950 1584 -1140 \nQ 1353 -1331 966 -1331 \nL 506 -1331 \nL 506 -850 \nL 844 -850 \nQ 1081 -850 1212 -737 \nQ 1344 -625 1503 -206 \nL 1606 56 \nL 191 3500 \nL 800 3500 \nL 1894 763 \nL 2988 3500 \nL 3597 3500 \nL 2059 -325 \nz\n\" transform=\"scale(0.015625)\"/>\n      </defs>\n      <use xlink:href=\"#DejaVuSans-6d\"/>\n      <use xlink:href=\"#DejaVuSans-75\" x=\"97.412109\"/>\n      <use xlink:href=\"#DejaVuSans-6c\" x=\"160.791016\"/>\n      <use xlink:href=\"#DejaVuSans-74\" x=\"188.574219\"/>\n      <use xlink:href=\"#DejaVuSans-69\" x=\"227.783203\"/>\n      <use xlink:href=\"#DejaVuSans-70\" x=\"255.566406\"/>\n      <use xlink:href=\"#DejaVuSans-6c\" x=\"319.042969\"/>\n      <use xlink:href=\"#DejaVuSans-79\" x=\"346.826172\"/>\n     </g>\n    </g>\n   </g>\n   <g id=\"text_2\">\n    <g clip-path=\"url(#p8cef2f3dc2)\">\n     <!-- 2.0 -->\n     <g style=\"fill: #d2b48c; opacity: 0.9\" transform=\"translate(306.692836 70.701375)scale(0.12 -0.12)\">\n      <defs>\n       <path id=\"DejaVuSans-32\" d=\"M 1228 531 \nL 3431 531 \nL 3431 0 \nL 469 0 \nL 469 531 \nQ 828 903 1448 1529 \nQ 2069 2156 2228 2338 \nQ 2531 2678 2651 2914 \nQ 2772 3150 2772 3378 \nQ 2772 3750 2511 3984 \nQ 2250 4219 1831 4219 \nQ 1534 4219 1204 4116 \nQ 875 4013 500 3803 \nL 500 4441 \nQ 881 4594 1212 4672 \nQ 1544 4750 1819 4750 \nQ 2544 4750 2975 4387 \nQ 3406 4025 3406 3419 \nQ 3406 3131 3298 2873 \nQ 3191 2616 2906 2266 \nQ 2828 2175 2409 1742 \nQ 1991 1309 1228 531 \nz\n\" transform=\"scale(0.015625)\"/>\n       <path id=\"DejaVuSans-2e\" d=\"M 684 794 \nL 1344 794 \nL 1344 0 \nL 684 0 \nL 684 794 \nz\n\" transform=\"scale(0.015625)\"/>\n       <path id=\"DejaVuSans-30\" d=\"M 2034 4250 \nQ 1547 4250 1301 3770 \nQ 1056 3291 1056 2328 \nQ 1056 1369 1301 889 \nQ 1547 409 2034 409 \nQ 2525 409 2770 889 \nQ 3016 1369 3016 2328 \nQ 3016 3291 2770 3770 \nQ 2525 4250 2034 4250 \nz\nM 2034 4750 \nQ 2819 4750 3233 4129 \nQ 3647 3509 3647 2328 \nQ 3647 1150 3233 529 \nQ 2819 -91 2034 -91 \nQ 1250 -91 836 529 \nQ 422 1150 422 2328 \nQ 422 3509 836 4129 \nQ 1250 4750 2034 4750 \nz\n\" transform=\"scale(0.015625)\"/>\n      </defs>\n      <use xlink:href=\"#DejaVuSans-32\"/>\n      <use xlink:href=\"#DejaVuSans-2e\" x=\"63.623047\"/>\n      <use xlink:href=\"#DejaVuSans-30\" x=\"95.410156\"/>\n     </g>\n    </g>\n   </g>\n   <g id=\"text_3\">\n    <g clip-path=\"url(#p8cef2f3dc2)\">\n     <!-- power -->\n     <g style=\"fill: #d2b48c; opacity: 0.9\" transform=\"translate(73.953549 150.829375)scale(0.12 -0.12)\">\n      <defs>\n       <path id=\"DejaVuSans-6f\" d=\"M 1959 3097 \nQ 1497 3097 1228 2736 \nQ 959 2375 959 1747 \nQ 959 1119 1226 758 \nQ 1494 397 1959 397 \nQ 2419 397 2687 759 \nQ 2956 1122 2956 1747 \nQ 2956 2369 2687 2733 \nQ 2419 3097 1959 3097 \nz\nM 1959 3584 \nQ 2709 3584 3137 3096 \nQ 3566 2609 3566 1747 \nQ 3566 888 3137 398 \nQ 2709 -91 1959 -91 \nQ 1206 -91 779 398 \nQ 353 888 353 1747 \nQ 353 2609 779 3096 \nQ 1206 3584 1959 3584 \nz\n\" transform=\"scale(0.015625)\"/>\n       <path id=\"DejaVuSans-77\" d=\"M 269 3500 \nL 844 3500 \nL 1563 769 \nL 2278 3500 \nL 2956 3500 \nL 3675 769 \nL 4391 3500 \nL 4966 3500 \nL 4050 0 \nL 3372 0 \nL 2619 2869 \nL 1863 0 \nL 1184 0 \nL 269 3500 \nz\n\" transform=\"scale(0.015625)\"/>\n       <path id=\"DejaVuSans-65\" d=\"M 3597 1894 \nL 3597 1613 \nL 953 1613 \nQ 991 1019 1311 708 \nQ 1631 397 2203 397 \nQ 2534 397 2845 478 \nQ 3156 559 3463 722 \nL 3463 178 \nQ 3153 47 2828 -22 \nQ 2503 -91 2169 -91 \nQ 1331 -91 842 396 \nQ 353 884 353 1716 \nQ 353 2575 817 3079 \nQ 1281 3584 2069 3584 \nQ 2775 3584 3186 3129 \nQ 3597 2675 3597 1894 \nz\nM 3022 2063 \nQ 3016 2534 2758 2815 \nQ 2500 3097 2075 3097 \nQ 1594 3097 1305 2825 \nQ 1016 2553 972 2059 \nL 3022 2063 \nz\n\" transform=\"scale(0.015625)\"/>\n       <path id=\"DejaVuSans-72\" d=\"M 2631 2963 \nQ 2534 3019 2420 3045 \nQ 2306 3072 2169 3072 \nQ 1681 3072 1420 2755 \nQ 1159 2438 1159 1844 \nL 1159 0 \nL 581 0 \nL 581 3500 \nL 1159 3500 \nL 1159 2956 \nQ 1341 3275 1631 3429 \nQ 1922 3584 2338 3584 \nQ 2397 3584 2469 3576 \nQ 2541 3569 2628 3553 \nL 2631 2963 \nz\n\" transform=\"scale(0.015625)\"/>\n      </defs>\n      <use xlink:href=\"#DejaVuSans-70\"/>\n      <use xlink:href=\"#DejaVuSans-6f\" x=\"63.476562\"/>\n      <use xlink:href=\"#DejaVuSans-77\" x=\"124.658203\"/>\n      <use xlink:href=\"#DejaVuSans-65\" x=\"206.445312\"/>\n      <use xlink:href=\"#DejaVuSans-72\" x=\"267.96875\"/>\n     </g>\n    </g>\n   </g>\n   <g id=\"text_4\">\n    <g clip-path=\"url(#p8cef2f3dc2)\">\n     <!-- add -->\n     <g style=\"fill: #d2b48c; opacity: 0.9\" transform=\"translate(137.138058 150.829375)scale(0.12 -0.12)\">\n      <defs>\n       <path id=\"DejaVuSans-61\" d=\"M 2194 1759 \nQ 1497 1759 1228 1600 \nQ 959 1441 959 1056 \nQ 959 750 1161 570 \nQ 1363 391 1709 391 \nQ 2188 391 2477 730 \nQ 2766 1069 2766 1631 \nL 2766 1759 \nL 2194 1759 \nz\nM 3341 1997 \nL 3341 0 \nL 2766 0 \nL 2766 531 \nQ 2569 213 2275 61 \nQ 1981 -91 1556 -91 \nQ 1019 -91 701 211 \nQ 384 513 384 1019 \nQ 384 1609 779 1909 \nQ 1175 2209 1959 2209 \nL 2766 2209 \nL 2766 2266 \nQ 2766 2663 2505 2880 \nQ 2244 3097 1772 3097 \nQ 1472 3097 1187 3025 \nQ 903 2953 641 2809 \nL 641 3341 \nQ 956 3463 1253 3523 \nQ 1550 3584 1831 3584 \nQ 2591 3584 2966 3190 \nQ 3341 2797 3341 1997 \nz\n\" transform=\"scale(0.015625)\"/>\n       <path id=\"DejaVuSans-64\" d=\"M 2906 2969 \nL 2906 4863 \nL 3481 4863 \nL 3481 0 \nL 2906 0 \nL 2906 525 \nQ 2725 213 2448 61 \nQ 2172 -91 1784 -91 \nQ 1150 -91 751 415 \nQ 353 922 353 1747 \nQ 353 2572 751 3078 \nQ 1150 3584 1784 3584 \nQ 2172 3584 2448 3432 \nQ 2725 3281 2906 2969 \nz\nM 947 1747 \nQ 947 1113 1208 752 \nQ 1469 391 1925 391 \nQ 2381 391 2643 752 \nQ 2906 1113 2906 1747 \nQ 2906 2381 2643 2742 \nQ 2381 3103 1925 3103 \nQ 1469 3103 1208 2742 \nQ 947 2381 947 1747 \nz\n\" transform=\"scale(0.015625)\"/>\n      </defs>\n      <use xlink:href=\"#DejaVuSans-61\"/>\n      <use xlink:href=\"#DejaVuSans-64\" x=\"61.279297\"/>\n      <use xlink:href=\"#DejaVuSans-64\" x=\"124.755859\"/>\n     </g>\n    </g>\n   </g>\n   <g id=\"text_5\">\n    <g clip-path=\"url(#p8cef2f3dc2)\">\n     <!-- add -->\n     <g style=\"fill: #d2b48c; opacity: 0.9\" transform=\"translate(249.005826 150.829375)scale(0.12 -0.12)\">\n      <use xlink:href=\"#DejaVuSans-61\"/>\n      <use xlink:href=\"#DejaVuSans-64\" x=\"61.279297\"/>\n      <use xlink:href=\"#DejaVuSans-64\" x=\"124.755859\"/>\n     </g>\n    </g>\n   </g>\n   <g id=\"text_6\">\n    <g clip-path=\"url(#p8cef2f3dc2)\">\n     <!-- 1 -->\n     <g style=\"fill: #d2b48c; opacity: 0.9\" transform=\"translate(312.417211 150.829375)scale(0.12 -0.12)\">\n      <defs>\n       <path id=\"DejaVuSans-31\" d=\"M 794 531 \nL 1825 531 \nL 1825 4091 \nL 703 3866 \nL 703 4441 \nL 1819 4666 \nL 2450 4666 \nL 2450 531 \nL 3481 531 \nL 3481 0 \nL 794 0 \nL 794 531 \nz\n\" transform=\"scale(0.015625)\"/>\n      </defs>\n      <use xlink:href=\"#DejaVuSans-31\"/>\n     </g>\n    </g>\n   </g>\n   <g id=\"text_7\">\n    <g clip-path=\"url(#p8cef2f3dc2)\">\n     <!-- negative -->\n     <g style=\"fill: #d2b48c; opacity: 0.9\" transform=\"translate(178.124442 150.829375)scale(0.12 -0.12)\">\n      <defs>\n       <path id=\"DejaVuSans-6e\" d=\"M 3513 2113 \nL 3513 0 \nL 2938 0 \nL 2938 2094 \nQ 2938 2591 2744 2837 \nQ 2550 3084 2163 3084 \nQ 1697 3084 1428 2787 \nQ 1159 2491 1159 1978 \nL 1159 0 \nL 581 0 \nL 581 3500 \nL 1159 3500 \nL 1159 2956 \nQ 1366 3272 1645 3428 \nQ 1925 3584 2291 3584 \nQ 2894 3584 3203 3211 \nQ 3513 2838 3513 2113 \nz\n\" transform=\"scale(0.015625)\"/>\n       <path id=\"DejaVuSans-67\" d=\"M 2906 1791 \nQ 2906 2416 2648 2759 \nQ 2391 3103 1925 3103 \nQ 1463 3103 1205 2759 \nQ 947 2416 947 1791 \nQ 947 1169 1205 825 \nQ 1463 481 1925 481 \nQ 2391 481 2648 825 \nQ 2906 1169 2906 1791 \nz\nM 3481 434 \nQ 3481 -459 3084 -895 \nQ 2688 -1331 1869 -1331 \nQ 1566 -1331 1297 -1286 \nQ 1028 -1241 775 -1147 \nL 775 -588 \nQ 1028 -725 1275 -790 \nQ 1522 -856 1778 -856 \nQ 2344 -856 2625 -561 \nQ 2906 -266 2906 331 \nL 2906 616 \nQ 2728 306 2450 153 \nQ 2172 0 1784 0 \nQ 1141 0 747 490 \nQ 353 981 353 1791 \nQ 353 2603 747 3093 \nQ 1141 3584 1784 3584 \nQ 2172 3584 2450 3431 \nQ 2728 3278 2906 2969 \nL 2906 3500 \nL 3481 3500 \nL 3481 434 \nz\n\" transform=\"scale(0.015625)\"/>\n       <path id=\"DejaVuSans-76\" d=\"M 191 3500 \nL 800 3500 \nL 1894 563 \nL 2988 3500 \nL 3597 3500 \nL 2284 0 \nL 1503 0 \nL 191 3500 \nz\n\" transform=\"scale(0.015625)\"/>\n      </defs>\n      <use xlink:href=\"#DejaVuSans-6e\"/>\n      <use xlink:href=\"#DejaVuSans-65\" x=\"63.378906\"/>\n      <use xlink:href=\"#DejaVuSans-67\" x=\"124.902344\"/>\n      <use xlink:href=\"#DejaVuSans-61\" x=\"188.378906\"/>\n      <use xlink:href=\"#DejaVuSans-74\" x=\"249.658203\"/>\n      <use xlink:href=\"#DejaVuSans-69\" x=\"288.867188\"/>\n      <use xlink:href=\"#DejaVuSans-76\" x=\"316.650391\"/>\n      <use xlink:href=\"#DejaVuSans-65\" x=\"375.830078\"/>\n     </g>\n    </g>\n   </g>\n   <g id=\"text_8\">\n    <g clip-path=\"url(#p8cef2f3dc2)\">\n     <!-- 2.0 -->\n     <g style=\"fill: #d2b48c; opacity: 0.9\" transform=\"translate(306.692836 230.957375)scale(0.12 -0.12)\">\n      <use xlink:href=\"#DejaVuSans-32\"/>\n      <use xlink:href=\"#DejaVuSans-2e\" x=\"63.623047\"/>\n      <use xlink:href=\"#DejaVuSans-30\" x=\"95.410156\"/>\n     </g>\n    </g>\n   </g>\n   <g id=\"text_9\">\n    <!-- Computation Graph -->\n    <g transform=\"translate(117.250312 16.318125)scale(0.12 -0.12)\">\n     <defs>\n      <path id=\"DejaVuSans-43\" d=\"M 4122 4306 \nL 4122 3641 \nQ 3803 3938 3442 4084 \nQ 3081 4231 2675 4231 \nQ 1875 4231 1450 3742 \nQ 1025 3253 1025 2328 \nQ 1025 1406 1450 917 \nQ 1875 428 2675 428 \nQ 3081 428 3442 575 \nQ 3803 722 4122 1019 \nL 4122 359 \nQ 3791 134 3420 21 \nQ 3050 -91 2638 -91 \nQ 1578 -91 968 557 \nQ 359 1206 359 2328 \nQ 359 3453 968 4101 \nQ 1578 4750 2638 4750 \nQ 3056 4750 3426 4639 \nQ 3797 4528 4122 4306 \nz\n\" transform=\"scale(0.015625)\"/>\n      <path id=\"DejaVuSans-20\" transform=\"scale(0.015625)\"/>\n      <path id=\"DejaVuSans-47\" d=\"M 3809 666 \nL 3809 1919 \nL 2778 1919 \nL 2778 2438 \nL 4434 2438 \nL 4434 434 \nQ 4069 175 3628 42 \nQ 3188 -91 2688 -91 \nQ 1594 -91 976 548 \nQ 359 1188 359 2328 \nQ 359 3472 976 4111 \nQ 1594 4750 2688 4750 \nQ 3144 4750 3555 4637 \nQ 3966 4525 4313 4306 \nL 4313 3634 \nQ 3963 3931 3569 4081 \nQ 3175 4231 2741 4231 \nQ 1884 4231 1454 3753 \nQ 1025 3275 1025 2328 \nQ 1025 1384 1454 906 \nQ 1884 428 2741 428 \nQ 3075 428 3337 486 \nQ 3600 544 3809 666 \nz\n\" transform=\"scale(0.015625)\"/>\n      <path id=\"DejaVuSans-68\" d=\"M 3513 2113 \nL 3513 0 \nL 2938 0 \nL 2938 2094 \nQ 2938 2591 2744 2837 \nQ 2550 3084 2163 3084 \nQ 1697 3084 1428 2787 \nQ 1159 2491 1159 1978 \nL 1159 0 \nL 581 0 \nL 581 4863 \nL 1159 4863 \nL 1159 2956 \nQ 1366 3272 1645 3428 \nQ 1925 3584 2291 3584 \nQ 2894 3584 3203 3211 \nQ 3513 2838 3513 2113 \nz\n\" transform=\"scale(0.015625)\"/>\n     </defs>\n     <use xlink:href=\"#DejaVuSans-43\"/>\n     <use xlink:href=\"#DejaVuSans-6f\" x=\"69.824219\"/>\n     <use xlink:href=\"#DejaVuSans-6d\" x=\"131.005859\"/>\n     <use xlink:href=\"#DejaVuSans-70\" x=\"228.417969\"/>\n     <use xlink:href=\"#DejaVuSans-75\" x=\"291.894531\"/>\n     <use xlink:href=\"#DejaVuSans-74\" x=\"355.273438\"/>\n     <use xlink:href=\"#DejaVuSans-61\" x=\"394.482422\"/>\n     <use xlink:href=\"#DejaVuSans-74\" x=\"455.761719\"/>\n     <use xlink:href=\"#DejaVuSans-69\" x=\"494.970703\"/>\n     <use xlink:href=\"#DejaVuSans-6f\" x=\"522.753906\"/>\n     <use xlink:href=\"#DejaVuSans-6e\" x=\"583.935547\"/>\n     <use xlink:href=\"#DejaVuSans-20\" x=\"647.314453\"/>\n     <use xlink:href=\"#DejaVuSans-47\" x=\"679.101562\"/>\n     <use xlink:href=\"#DejaVuSans-72\" x=\"756.591797\"/>\n     <use xlink:href=\"#DejaVuSans-61\" x=\"797.705078\"/>\n     <use xlink:href=\"#DejaVuSans-70\" x=\"858.984375\"/>\n     <use xlink:href=\"#DejaVuSans-68\" x=\"922.460938\"/>\n    </g>\n   </g>\n  </g>\n </g>\n <defs>\n  <clipPath id=\"p8cef2f3dc2\">\n   <rect x=\"7.2\" y=\"22.318125\" width=\"338.4\" height=\"250.4\"/>\n  </clipPath>\n </defs>\n</svg>\n"
          },
          "metadata": {}
        }
      ]
    },
    {
      "cell_type": "markdown",
      "source": [
        "Sans avoir fait quoi que ce soit de spécial, nous pouvons déjà supporter les boucles et conditions puisque celle-ci sont \"aplaties\" automatiquement lorsque de l'exécution du graphe de calcul. "
      ],
      "metadata": {
        "id": "IJl5Yg5XLbZN"
      }
    },
    {
      "cell_type": "code",
      "source": [
        "def f(x):\n",
        "  a = x\n",
        "  for i in range(5):\n",
        "    if i != 3:\n",
        "      a = a + x\n",
        "  return a\n",
        "end_node = f(Node(value=2.))\n",
        "draw_computation_graph(convert_to_networkx(end_node), scale=1e1)  "
      ],
      "metadata": {
        "colab": {
          "base_uri": "https://localhost:8080/",
          "height": 394
        },
        "id": "aT4ku48zKu88",
        "outputId": "145d0339-ea86-4976-b77a-6d35bcfd9a62"
      },
      "execution_count": null,
      "outputs": [
        {
          "output_type": "display_data",
          "data": {
            "text/plain": [
              "<Figure size 360x288 with 1 Axes>"
            ],
            "image/svg+xml": "<?xml version=\"1.0\" encoding=\"utf-8\" standalone=\"no\"?>\n<!DOCTYPE svg PUBLIC \"-//W3C//DTD SVG 1.1//EN\"\n  \"http://www.w3.org/Graphics/SVG/1.1/DTD/svg11.dtd\">\n<svg xmlns:xlink=\"http://www.w3.org/1999/xlink\" width=\"352.8pt\" height=\"279.918125pt\" viewBox=\"0 0 352.8 279.918125\" xmlns=\"http://www.w3.org/2000/svg\" version=\"1.1\">\n <metadata>\n  <rdf:RDF xmlns:dc=\"http://purl.org/dc/elements/1.1/\" xmlns:cc=\"http://creativecommons.org/ns#\" xmlns:rdf=\"http://www.w3.org/1999/02/22-rdf-syntax-ns#\">\n   <cc:Work>\n    <dc:type rdf:resource=\"http://purl.org/dc/dcmitype/StillImage\"/>\n    <dc:date>2023-03-11T23:07:49.855023</dc:date>\n    <dc:format>image/svg+xml</dc:format>\n    <dc:creator>\n     <cc:Agent>\n      <dc:title>Matplotlib v3.5.3, https://matplotlib.org/</dc:title>\n     </cc:Agent>\n    </dc:creator>\n   </cc:Work>\n  </rdf:RDF>\n </metadata>\n <defs>\n  <style type=\"text/css\">*{stroke-linejoin: round; stroke-linecap: butt}</style>\n </defs>\n <g id=\"figure_1\">\n  <g id=\"patch_1\">\n   <path d=\"M 0 279.918125 \nL 352.8 279.918125 \nL 352.8 0 \nL 0 0 \nz\n\" style=\"fill: #ffffff\"/>\n  </g>\n  <g id=\"axes_1\">\n   <g id=\"patch_2\">\n    <path d=\"M 83.784255 132.188677 \nQ 71.522714 127.888456 60.316182 131.81948 \n\" clip-path=\"url(#pab973f7ba3)\" style=\"fill: none; stroke: #000000; stroke-opacity: 0.9; stroke-linecap: round\"/>\n    <path d=\"M 64.752708 132.382714 \nL 60.316182 131.81948 \nL 63.428685 128.608199 \nL 64.752708 132.382714 \nz\n\" clip-path=\"url(#pab973f7ba3)\" style=\"fill-opacity: 0.9; stroke: #000000; stroke-opacity: 0.9; stroke-linecap: round\"/>\n   </g>\n   <g id=\"patch_3\">\n    <path d=\"M 153.701611 132.188677 \nQ 141.440069 127.888456 130.233537 131.81948 \n\" clip-path=\"url(#pab973f7ba3)\" style=\"fill: none; stroke: #000000; stroke-opacity: 0.9; stroke-linecap: round\"/>\n    <path d=\"M 134.670064 132.382714 \nL 130.233537 131.81948 \nL 133.34604 128.608199 \nL 134.670064 132.382714 \nz\n\" clip-path=\"url(#pab973f7ba3)\" style=\"fill-opacity: 0.9; stroke: #000000; stroke-opacity: 0.9; stroke-linecap: round\"/>\n   </g>\n   <g id=\"patch_4\">\n    <path d=\"M 223.618966 132.188677 \nQ 211.357425 127.888456 200.150893 131.81948 \n\" clip-path=\"url(#pab973f7ba3)\" style=\"fill: none; stroke: #000000; stroke-opacity: 0.9; stroke-linecap: round\"/>\n    <path d=\"M 204.587419 132.382714 \nL 200.150893 131.81948 \nL 203.263396 128.608199 \nL 204.587419 132.382714 \nz\n\" clip-path=\"url(#pab973f7ba3)\" style=\"fill-opacity: 0.9; stroke: #000000; stroke-opacity: 0.9; stroke-linecap: round\"/>\n   </g>\n   <g id=\"patch_5\">\n    <path d=\"M 293.536321 132.188677 \nQ 281.27478 127.888456 270.068248 131.81948 \n\" clip-path=\"url(#pab973f7ba3)\" style=\"fill: none; stroke: #000000; stroke-opacity: 0.9; stroke-linecap: round\"/>\n    <path d=\"M 274.504774 132.382714 \nL 270.068248 131.81948 \nL 273.180751 128.608199 \nL 274.504774 132.382714 \nz\n\" clip-path=\"url(#pab973f7ba3)\" style=\"fill-opacity: 0.9; stroke: #000000; stroke-opacity: 0.9; stroke-linecap: round\"/>\n   </g>\n   <g id=\"patch_6\">\n    <path d=\"M 293.536321 132.188677 \nQ 281.27478 127.888456 270.068248 131.81948 \n\" clip-path=\"url(#pab973f7ba3)\" style=\"fill: none; stroke: #000000; stroke-opacity: 0.9; stroke-linecap: round\"/>\n    <path d=\"M 274.504774 132.382714 \nL 270.068248 131.81948 \nL 273.180751 128.608199 \nL 274.504774 132.382714 \nz\n\" clip-path=\"url(#pab973f7ba3)\" style=\"fill-opacity: 0.9; stroke: #000000; stroke-opacity: 0.9; stroke-linecap: round\"/>\n   </g>\n   <g id=\"patch_7\">\n    <path d=\"M 295.377712 129.772045 \nQ 246.318649 95.347758 198.174805 129.128063 \n\" clip-path=\"url(#pab973f7ba3)\" style=\"fill: none; stroke: #000000; stroke-opacity: 0.9; stroke-linecap: round\"/>\n    <path d=\"M 202.597928 128.467772 \nL 198.174805 129.128063 \nL 200.300446 125.19339 \nL 202.597928 128.467772 \nz\n\" clip-path=\"url(#pab973f7ba3)\" style=\"fill-opacity: 0.9; stroke: #000000; stroke-opacity: 0.9; stroke-linecap: round\"/>\n   </g>\n   <g id=\"patch_8\">\n    <path d=\"M 295.907938 129.161191 \nQ 211.356495 60.997266 127.67544 128.462982 \n\" clip-path=\"url(#pab973f7ba3)\" style=\"fill: none; stroke: #000000; stroke-opacity: 0.9; stroke-linecap: round\"/>\n    <path d=\"M 132.044728 127.5094 \nL 127.67544 128.462982 \nL 129.534147 124.395402 \nL 132.044728 127.5094 \nz\n\" clip-path=\"url(#pab973f7ba3)\" style=\"fill-opacity: 0.9; stroke: #000000; stroke-opacity: 0.9; stroke-linecap: round\"/>\n   </g>\n   <g id=\"patch_9\">\n    <path d=\"M 296.162916 128.886877 \nQ 176.400655 26.315223 57.487559 128.158487 \n\" clip-path=\"url(#pab973f7ba3)\" style=\"fill: none; stroke: #000000; stroke-opacity: 0.9; stroke-linecap: round\"/>\n    <path d=\"M 61.8266 127.075566 \nL 57.487559 128.158487 \nL 59.224646 124.037501 \nL 61.8266 127.075566 \nz\n\" clip-path=\"url(#pab973f7ba3)\" style=\"fill-opacity: 0.9; stroke: #000000; stroke-opacity: 0.9; stroke-linecap: round\"/>\n   </g>\n   <g id=\"PathCollection_1\">\n    <defs>\n     <path id=\"ma3d6af5b0e\" d=\"M 0 27.386128 \nC 7.262886 27.386128 14.229281 24.500553 19.364917 19.364917 \nC 24.500553 14.229281 27.386128 7.262886 27.386128 0 \nC 27.386128 -7.262886 24.500553 -14.229281 19.364917 -19.364917 \nC 14.229281 -24.500553 7.262886 -27.386128 0 -27.386128 \nC -7.262886 -27.386128 -14.229281 -24.500553 -19.364917 -19.364917 \nC -24.500553 -14.229281 -27.386128 -7.262886 -27.386128 0 \nC -27.386128 7.262886 -24.500553 14.229281 -19.364917 19.364917 \nC -14.229281 24.500553 -7.262886 27.386128 0 27.386128 \nz\n\" style=\"stroke: #7f7f7f; stroke-opacity: 0.9\"/>\n    </defs>\n    <g clip-path=\"url(#pab973f7ba3)\">\n     <use xlink:href=\"#ma3d6af5b0e\" x=\"36.565289\" y=\"147.518125\" style=\"fill: #d62728; fill-opacity: 0.9; stroke: #7f7f7f; stroke-opacity: 0.9\"/>\n     <use xlink:href=\"#ma3d6af5b0e\" x=\"106.482645\" y=\"147.518125\" style=\"fill: #d62728; fill-opacity: 0.9; stroke: #7f7f7f; stroke-opacity: 0.9\"/>\n     <use xlink:href=\"#ma3d6af5b0e\" x=\"176.4\" y=\"147.518125\" style=\"fill: #d62728; fill-opacity: 0.9; stroke: #7f7f7f; stroke-opacity: 0.9\"/>\n     <use xlink:href=\"#ma3d6af5b0e\" x=\"246.317355\" y=\"147.518125\" style=\"fill: #d62728; fill-opacity: 0.9; stroke: #7f7f7f; stroke-opacity: 0.9\"/>\n     <use xlink:href=\"#ma3d6af5b0e\" x=\"316.234711\" y=\"147.518125\" style=\"fill: #d62728; fill-opacity: 0.9; stroke: #7f7f7f; stroke-opacity: 0.9\"/>\n    </g>\n   </g>\n   <g id=\"text_1\">\n    <g clip-path=\"url(#pab973f7ba3)\">\n     <!-- add -->\n     <g style=\"fill: #d2b48c; opacity: 0.9\" transform=\"translate(25.270289 150.829375)scale(0.12 -0.12)\">\n      <defs>\n       <path id=\"DejaVuSans-61\" d=\"M 2194 1759 \nQ 1497 1759 1228 1600 \nQ 959 1441 959 1056 \nQ 959 750 1161 570 \nQ 1363 391 1709 391 \nQ 2188 391 2477 730 \nQ 2766 1069 2766 1631 \nL 2766 1759 \nL 2194 1759 \nz\nM 3341 1997 \nL 3341 0 \nL 2766 0 \nL 2766 531 \nQ 2569 213 2275 61 \nQ 1981 -91 1556 -91 \nQ 1019 -91 701 211 \nQ 384 513 384 1019 \nQ 384 1609 779 1909 \nQ 1175 2209 1959 2209 \nL 2766 2209 \nL 2766 2266 \nQ 2766 2663 2505 2880 \nQ 2244 3097 1772 3097 \nQ 1472 3097 1187 3025 \nQ 903 2953 641 2809 \nL 641 3341 \nQ 956 3463 1253 3523 \nQ 1550 3584 1831 3584 \nQ 2591 3584 2966 3190 \nQ 3341 2797 3341 1997 \nz\n\" transform=\"scale(0.015625)\"/>\n       <path id=\"DejaVuSans-64\" d=\"M 2906 2969 \nL 2906 4863 \nL 3481 4863 \nL 3481 0 \nL 2906 0 \nL 2906 525 \nQ 2725 213 2448 61 \nQ 2172 -91 1784 -91 \nQ 1150 -91 751 415 \nQ 353 922 353 1747 \nQ 353 2572 751 3078 \nQ 1150 3584 1784 3584 \nQ 2172 3584 2448 3432 \nQ 2725 3281 2906 2969 \nz\nM 947 1747 \nQ 947 1113 1208 752 \nQ 1469 391 1925 391 \nQ 2381 391 2643 752 \nQ 2906 1113 2906 1747 \nQ 2906 2381 2643 2742 \nQ 2381 3103 1925 3103 \nQ 1469 3103 1208 2742 \nQ 947 2381 947 1747 \nz\n\" transform=\"scale(0.015625)\"/>\n      </defs>\n      <use xlink:href=\"#DejaVuSans-61\"/>\n      <use xlink:href=\"#DejaVuSans-64\" x=\"61.279297\"/>\n      <use xlink:href=\"#DejaVuSans-64\" x=\"124.755859\"/>\n     </g>\n    </g>\n   </g>\n   <g id=\"text_2\">\n    <g clip-path=\"url(#pab973f7ba3)\">\n     <!-- add -->\n     <g style=\"fill: #d2b48c; opacity: 0.9\" transform=\"translate(95.187645 150.829375)scale(0.12 -0.12)\">\n      <use xlink:href=\"#DejaVuSans-61\"/>\n      <use xlink:href=\"#DejaVuSans-64\" x=\"61.279297\"/>\n      <use xlink:href=\"#DejaVuSans-64\" x=\"124.755859\"/>\n     </g>\n    </g>\n   </g>\n   <g id=\"text_3\">\n    <g clip-path=\"url(#pab973f7ba3)\">\n     <!-- add -->\n     <g style=\"fill: #d2b48c; opacity: 0.9\" transform=\"translate(165.105 150.829375)scale(0.12 -0.12)\">\n      <use xlink:href=\"#DejaVuSans-61\"/>\n      <use xlink:href=\"#DejaVuSans-64\" x=\"61.279297\"/>\n      <use xlink:href=\"#DejaVuSans-64\" x=\"124.755859\"/>\n     </g>\n    </g>\n   </g>\n   <g id=\"text_4\">\n    <g clip-path=\"url(#pab973f7ba3)\">\n     <!-- add -->\n     <g style=\"fill: #d2b48c; opacity: 0.9\" transform=\"translate(235.022355 150.829375)scale(0.12 -0.12)\">\n      <use xlink:href=\"#DejaVuSans-61\"/>\n      <use xlink:href=\"#DejaVuSans-64\" x=\"61.279297\"/>\n      <use xlink:href=\"#DejaVuSans-64\" x=\"124.755859\"/>\n     </g>\n    </g>\n   </g>\n   <g id=\"text_5\">\n    <g clip-path=\"url(#pab973f7ba3)\">\n     <!-- 2.0 -->\n     <g style=\"fill: #d2b48c; opacity: 0.9\" transform=\"translate(306.692836 150.829375)scale(0.12 -0.12)\">\n      <defs>\n       <path id=\"DejaVuSans-32\" d=\"M 1228 531 \nL 3431 531 \nL 3431 0 \nL 469 0 \nL 469 531 \nQ 828 903 1448 1529 \nQ 2069 2156 2228 2338 \nQ 2531 2678 2651 2914 \nQ 2772 3150 2772 3378 \nQ 2772 3750 2511 3984 \nQ 2250 4219 1831 4219 \nQ 1534 4219 1204 4116 \nQ 875 4013 500 3803 \nL 500 4441 \nQ 881 4594 1212 4672 \nQ 1544 4750 1819 4750 \nQ 2544 4750 2975 4387 \nQ 3406 4025 3406 3419 \nQ 3406 3131 3298 2873 \nQ 3191 2616 2906 2266 \nQ 2828 2175 2409 1742 \nQ 1991 1309 1228 531 \nz\n\" transform=\"scale(0.015625)\"/>\n       <path id=\"DejaVuSans-2e\" d=\"M 684 794 \nL 1344 794 \nL 1344 0 \nL 684 0 \nL 684 794 \nz\n\" transform=\"scale(0.015625)\"/>\n       <path id=\"DejaVuSans-30\" d=\"M 2034 4250 \nQ 1547 4250 1301 3770 \nQ 1056 3291 1056 2328 \nQ 1056 1369 1301 889 \nQ 1547 409 2034 409 \nQ 2525 409 2770 889 \nQ 3016 1369 3016 2328 \nQ 3016 3291 2770 3770 \nQ 2525 4250 2034 4250 \nz\nM 2034 4750 \nQ 2819 4750 3233 4129 \nQ 3647 3509 3647 2328 \nQ 3647 1150 3233 529 \nQ 2819 -91 2034 -91 \nQ 1250 -91 836 529 \nQ 422 1150 422 2328 \nQ 422 3509 836 4129 \nQ 1250 4750 2034 4750 \nz\n\" transform=\"scale(0.015625)\"/>\n      </defs>\n      <use xlink:href=\"#DejaVuSans-32\"/>\n      <use xlink:href=\"#DejaVuSans-2e\" x=\"63.623047\"/>\n      <use xlink:href=\"#DejaVuSans-30\" x=\"95.410156\"/>\n     </g>\n    </g>\n   </g>\n   <g id=\"text_6\">\n    <!-- Computation Graph -->\n    <g transform=\"translate(117.250312 16.318125)scale(0.12 -0.12)\">\n     <defs>\n      <path id=\"DejaVuSans-43\" d=\"M 4122 4306 \nL 4122 3641 \nQ 3803 3938 3442 4084 \nQ 3081 4231 2675 4231 \nQ 1875 4231 1450 3742 \nQ 1025 3253 1025 2328 \nQ 1025 1406 1450 917 \nQ 1875 428 2675 428 \nQ 3081 428 3442 575 \nQ 3803 722 4122 1019 \nL 4122 359 \nQ 3791 134 3420 21 \nQ 3050 -91 2638 -91 \nQ 1578 -91 968 557 \nQ 359 1206 359 2328 \nQ 359 3453 968 4101 \nQ 1578 4750 2638 4750 \nQ 3056 4750 3426 4639 \nQ 3797 4528 4122 4306 \nz\n\" transform=\"scale(0.015625)\"/>\n      <path id=\"DejaVuSans-6f\" d=\"M 1959 3097 \nQ 1497 3097 1228 2736 \nQ 959 2375 959 1747 \nQ 959 1119 1226 758 \nQ 1494 397 1959 397 \nQ 2419 397 2687 759 \nQ 2956 1122 2956 1747 \nQ 2956 2369 2687 2733 \nQ 2419 3097 1959 3097 \nz\nM 1959 3584 \nQ 2709 3584 3137 3096 \nQ 3566 2609 3566 1747 \nQ 3566 888 3137 398 \nQ 2709 -91 1959 -91 \nQ 1206 -91 779 398 \nQ 353 888 353 1747 \nQ 353 2609 779 3096 \nQ 1206 3584 1959 3584 \nz\n\" transform=\"scale(0.015625)\"/>\n      <path id=\"DejaVuSans-6d\" d=\"M 3328 2828 \nQ 3544 3216 3844 3400 \nQ 4144 3584 4550 3584 \nQ 5097 3584 5394 3201 \nQ 5691 2819 5691 2113 \nL 5691 0 \nL 5113 0 \nL 5113 2094 \nQ 5113 2597 4934 2840 \nQ 4756 3084 4391 3084 \nQ 3944 3084 3684 2787 \nQ 3425 2491 3425 1978 \nL 3425 0 \nL 2847 0 \nL 2847 2094 \nQ 2847 2600 2669 2842 \nQ 2491 3084 2119 3084 \nQ 1678 3084 1418 2786 \nQ 1159 2488 1159 1978 \nL 1159 0 \nL 581 0 \nL 581 3500 \nL 1159 3500 \nL 1159 2956 \nQ 1356 3278 1631 3431 \nQ 1906 3584 2284 3584 \nQ 2666 3584 2933 3390 \nQ 3200 3197 3328 2828 \nz\n\" transform=\"scale(0.015625)\"/>\n      <path id=\"DejaVuSans-70\" d=\"M 1159 525 \nL 1159 -1331 \nL 581 -1331 \nL 581 3500 \nL 1159 3500 \nL 1159 2969 \nQ 1341 3281 1617 3432 \nQ 1894 3584 2278 3584 \nQ 2916 3584 3314 3078 \nQ 3713 2572 3713 1747 \nQ 3713 922 3314 415 \nQ 2916 -91 2278 -91 \nQ 1894 -91 1617 61 \nQ 1341 213 1159 525 \nz\nM 3116 1747 \nQ 3116 2381 2855 2742 \nQ 2594 3103 2138 3103 \nQ 1681 3103 1420 2742 \nQ 1159 2381 1159 1747 \nQ 1159 1113 1420 752 \nQ 1681 391 2138 391 \nQ 2594 391 2855 752 \nQ 3116 1113 3116 1747 \nz\n\" transform=\"scale(0.015625)\"/>\n      <path id=\"DejaVuSans-75\" d=\"M 544 1381 \nL 544 3500 \nL 1119 3500 \nL 1119 1403 \nQ 1119 906 1312 657 \nQ 1506 409 1894 409 \nQ 2359 409 2629 706 \nQ 2900 1003 2900 1516 \nL 2900 3500 \nL 3475 3500 \nL 3475 0 \nL 2900 0 \nL 2900 538 \nQ 2691 219 2414 64 \nQ 2138 -91 1772 -91 \nQ 1169 -91 856 284 \nQ 544 659 544 1381 \nz\nM 1991 3584 \nL 1991 3584 \nz\n\" transform=\"scale(0.015625)\"/>\n      <path id=\"DejaVuSans-74\" d=\"M 1172 4494 \nL 1172 3500 \nL 2356 3500 \nL 2356 3053 \nL 1172 3053 \nL 1172 1153 \nQ 1172 725 1289 603 \nQ 1406 481 1766 481 \nL 2356 481 \nL 2356 0 \nL 1766 0 \nQ 1100 0 847 248 \nQ 594 497 594 1153 \nL 594 3053 \nL 172 3053 \nL 172 3500 \nL 594 3500 \nL 594 4494 \nL 1172 4494 \nz\n\" transform=\"scale(0.015625)\"/>\n      <path id=\"DejaVuSans-69\" d=\"M 603 3500 \nL 1178 3500 \nL 1178 0 \nL 603 0 \nL 603 3500 \nz\nM 603 4863 \nL 1178 4863 \nL 1178 4134 \nL 603 4134 \nL 603 4863 \nz\n\" transform=\"scale(0.015625)\"/>\n      <path id=\"DejaVuSans-6e\" d=\"M 3513 2113 \nL 3513 0 \nL 2938 0 \nL 2938 2094 \nQ 2938 2591 2744 2837 \nQ 2550 3084 2163 3084 \nQ 1697 3084 1428 2787 \nQ 1159 2491 1159 1978 \nL 1159 0 \nL 581 0 \nL 581 3500 \nL 1159 3500 \nL 1159 2956 \nQ 1366 3272 1645 3428 \nQ 1925 3584 2291 3584 \nQ 2894 3584 3203 3211 \nQ 3513 2838 3513 2113 \nz\n\" transform=\"scale(0.015625)\"/>\n      <path id=\"DejaVuSans-20\" transform=\"scale(0.015625)\"/>\n      <path id=\"DejaVuSans-47\" d=\"M 3809 666 \nL 3809 1919 \nL 2778 1919 \nL 2778 2438 \nL 4434 2438 \nL 4434 434 \nQ 4069 175 3628 42 \nQ 3188 -91 2688 -91 \nQ 1594 -91 976 548 \nQ 359 1188 359 2328 \nQ 359 3472 976 4111 \nQ 1594 4750 2688 4750 \nQ 3144 4750 3555 4637 \nQ 3966 4525 4313 4306 \nL 4313 3634 \nQ 3963 3931 3569 4081 \nQ 3175 4231 2741 4231 \nQ 1884 4231 1454 3753 \nQ 1025 3275 1025 2328 \nQ 1025 1384 1454 906 \nQ 1884 428 2741 428 \nQ 3075 428 3337 486 \nQ 3600 544 3809 666 \nz\n\" transform=\"scale(0.015625)\"/>\n      <path id=\"DejaVuSans-72\" d=\"M 2631 2963 \nQ 2534 3019 2420 3045 \nQ 2306 3072 2169 3072 \nQ 1681 3072 1420 2755 \nQ 1159 2438 1159 1844 \nL 1159 0 \nL 581 0 \nL 581 3500 \nL 1159 3500 \nL 1159 2956 \nQ 1341 3275 1631 3429 \nQ 1922 3584 2338 3584 \nQ 2397 3584 2469 3576 \nQ 2541 3569 2628 3553 \nL 2631 2963 \nz\n\" transform=\"scale(0.015625)\"/>\n      <path id=\"DejaVuSans-68\" d=\"M 3513 2113 \nL 3513 0 \nL 2938 0 \nL 2938 2094 \nQ 2938 2591 2744 2837 \nQ 2550 3084 2163 3084 \nQ 1697 3084 1428 2787 \nQ 1159 2491 1159 1978 \nL 1159 0 \nL 581 0 \nL 581 4863 \nL 1159 4863 \nL 1159 2956 \nQ 1366 3272 1645 3428 \nQ 1925 3584 2291 3584 \nQ 2894 3584 3203 3211 \nQ 3513 2838 3513 2113 \nz\n\" transform=\"scale(0.015625)\"/>\n     </defs>\n     <use xlink:href=\"#DejaVuSans-43\"/>\n     <use xlink:href=\"#DejaVuSans-6f\" x=\"69.824219\"/>\n     <use xlink:href=\"#DejaVuSans-6d\" x=\"131.005859\"/>\n     <use xlink:href=\"#DejaVuSans-70\" x=\"228.417969\"/>\n     <use xlink:href=\"#DejaVuSans-75\" x=\"291.894531\"/>\n     <use xlink:href=\"#DejaVuSans-74\" x=\"355.273438\"/>\n     <use xlink:href=\"#DejaVuSans-61\" x=\"394.482422\"/>\n     <use xlink:href=\"#DejaVuSans-74\" x=\"455.761719\"/>\n     <use xlink:href=\"#DejaVuSans-69\" x=\"494.970703\"/>\n     <use xlink:href=\"#DejaVuSans-6f\" x=\"522.753906\"/>\n     <use xlink:href=\"#DejaVuSans-6e\" x=\"583.935547\"/>\n     <use xlink:href=\"#DejaVuSans-20\" x=\"647.314453\"/>\n     <use xlink:href=\"#DejaVuSans-47\" x=\"679.101562\"/>\n     <use xlink:href=\"#DejaVuSans-72\" x=\"756.591797\"/>\n     <use xlink:href=\"#DejaVuSans-61\" x=\"797.705078\"/>\n     <use xlink:href=\"#DejaVuSans-70\" x=\"858.984375\"/>\n     <use xlink:href=\"#DejaVuSans-68\" x=\"922.460938\"/>\n    </g>\n   </g>\n  </g>\n </g>\n <defs>\n  <clipPath id=\"pab973f7ba3\">\n   <rect x=\"7.2\" y=\"22.318125\" width=\"338.4\" height=\"250.4\"/>\n  </clipPath>\n </defs>\n</svg>\n"
          },
          "metadata": {}
        }
      ]
    },
    {
      "cell_type": "markdown",
      "source": [
        "# Partie 2: accumulation arrière explicite\n",
        "\n",
        "Parcourez le graph de calcul en ordre topologique inversé en propageant le vecteur adjoint, à partir d'un vecteur graine, à l'aide des opérations vjp. En présence de chemins multiples, sommez les vecteurs adjoints. \n",
        "\n",
        "Vous pouvez implémenter cette fonction avec une boucle et une pile (stack) si vous le souhaitez, ou bien de manière récursive comme décrite ici. La fonction ``visit`` suivante est conçue pour être appelée à partir de ``end_node`` avec le vecteur graine. La récursion se poursuit jusqu'au moment où nous atteignons un nœud de source (sans parents) et retournons le vecteur adjoint reçu sans modification. En visitant chaque nœud, nous prenons la somme des vecteurs adjoints calculés récursivement dans la branche correspondant à chaque argument. Avant de descendre dans une branche, il est nécessaire de s'assurer que l'argument est bien de type ``Node``. Si ce n'est pas le cas, cela signifie que l'argument ne dépend pas de la variable de différentiation, et ne doit donc pas entrer dans le calcul de la somme de la dérivée totale. "
      ],
      "metadata": {
        "id": "R0hDNiRASerl"
      }
    },
    {
      "cell_type": "code",
      "source": [
        "def visit(g, node, adjoints=None):\n",
        "    if adjoints is None:\n",
        "        adjoints = {node: g}\n",
        "    else:\n",
        "        adjoints[node] = g\n",
        "    \n",
        "    if not node.parents:\n",
        "        return adjoints[node]\n",
        "    \n",
        "    adj = 0\n",
        "    for i, parent in enumerate(node.parents):\n",
        "        if isinstance(parent, Node):\n",
        "            parent_adj = parent.func.vjp(adjoints[node], node.value)[i]\n",
        "            adj += parent_adj\n",
        "            visit(parent_adj, parent, adjoints)\n",
        "        else:\n",
        "            continue\n",
        "    \n",
        "    return adj"
      ],
      "metadata": {
        "id": "toPgH-BENZ3x"
      },
      "execution_count": null,
      "outputs": []
    },
    {
      "cell_type": "markdown",
      "source": [
        "Afin de pouvoir ensemencer notre accumulation arrière, nous devoir fournir un vecteur graine provenant d'une base standard. Nous reprenons ici la fonction correspondant définie dans le code d'autograd, qui nous permet de générer les éléments de cette base pour des espaces tensoriels. "
      ],
      "metadata": {
        "id": "CcRviDjc7tnC"
      }
    },
    {
      "cell_type": "code",
      "source": [
        "def standard_basis(shape):\n",
        "  for idxs in onp.ndindex(*shape):\n",
        "      vect = onp.zeros(shape)\n",
        "      vect[idxs] = 1\n",
        "      yield vect"
      ],
      "metadata": {
        "id": "PRNRDwq78fAT"
      },
      "execution_count": null,
      "outputs": []
    },
    {
      "cell_type": "markdown",
      "source": [
        "## Premier test: opération scalaire\n",
        "\n",
        "Pour commencer, testons une fonction simple $f(x) =  \\sin(x^2)$ où $x$ est un scalaire. La dérivée est alors $f'(x) = 2\\cos(x^2)x$"
      ],
      "metadata": {
        "id": "gKqZA1nzQ-yN"
      }
    },
    {
      "cell_type": "code",
      "source": [
        "def f(x):\n",
        "  return ad.sin(ad.power(x, 2.))\n",
        "\n",
        "x = 1.\n",
        "end_node = f(Node(value=x))\n",
        "visit(1., end_node)"
      ],
      "metadata": {
        "id": "5W38-K5xRhtq"
      },
      "execution_count": null,
      "outputs": []
    },
    {
      "cell_type": "markdown",
      "source": [
        "Nous pouvons vérifier que nous obtenions la même solution que la dérivée analytique:"
      ],
      "metadata": {
        "id": "M_uHCaORYVL6"
      }
    },
    {
      "cell_type": "code",
      "source": [
        "2.*onp.cos(x**2.)"
      ],
      "metadata": {
        "colab": {
          "base_uri": "https://localhost:8080/"
        },
        "id": "yEHcX3_7TBqs",
        "outputId": "0a2e2119-2ca1-44d7-ec23-69064d74e90e"
      },
      "execution_count": null,
      "outputs": [
        {
          "output_type": "execute_result",
          "data": {
            "text/plain": [
              "1.0806046117362795"
            ]
          },
          "metadata": {},
          "execution_count": 65
        }
      ]
    },
    {
      "cell_type": "markdown",
      "source": [
        "## Deuxième test: produit scalaire\n",
        "\n",
        "Tentons maintenant d'appliquer notre système à des vecteurs, pour le produit scalaire $f(x) = x^\\top x$, $Df(x) = 2x^\\top$"
      ],
      "metadata": {
        "id": "9U6PAi77YdVY"
      }
    },
    {
      "cell_type": "code",
      "source": [
        "def f(x):\n",
        "  return ad.dot(x, x)\n",
        "\n",
        "x = onp.array([2, 3.])\n",
        "end_node = f(Node(value=x))\n",
        "visit(1., end_node)"
      ],
      "metadata": {
        "id": "iPgonSHHY96n"
      },
      "execution_count": null,
      "outputs": []
    },
    {
      "cell_type": "markdown",
      "source": [
        "## Troisième test: produit matriciel\n",
        "\n",
        "Cette fois-ci, nous considérons un produit matriciel de la forme $f(A, B) = A B$. La base standard est maintenant plus complexe, tel que nous allons voir ci-dessous. "
      ],
      "metadata": {
        "id": "D3FcTYKuY_Ba"
      }
    },
    {
      "cell_type": "code",
      "source": [
        "def f(x):\n",
        "  return ad.dot(x, x)\n",
        "x = onp.array([[1, 2.],[3,4]])\n",
        "end_node = f(Node(value=x))\n",
        "onp.reshape(onp.stack([visit(g, end_node) for g in standard_basis((2,2))]), (2, 2, 2, 2))"
      ],
      "metadata": {
        "id": "FdwMMEOP47ep"
      },
      "execution_count": null,
      "outputs": []
    },
    {
      "cell_type": "markdown",
      "source": [
        "Comparons maintenant avec JAX en passant à l'espace de nom de jax plutôt que de notre implémentation. "
      ],
      "metadata": {
        "id": "idjDjvxtayEr"
      }
    },
    {
      "cell_type": "code",
      "source": [
        "ad = jax.numpy\n",
        "jax.jacobian(lambda x: jnp.dot(x, x))(x)"
      ],
      "metadata": {
        "id": "i8FQASJC9sou"
      },
      "execution_count": null,
      "outputs": []
    },
    {
      "cell_type": "markdown",
      "source": [
        "# Partie 4: application en optimisation\n",
        "\n",
        "Nous allons maintenant tenter de minimiser la fonction $f(x) = x^2$ par descente de gradient (déterminisite)."
      ],
      "metadata": {
        "id": "VO5QEHJpa_Z5"
      }
    },
    {
      "cell_type": "code",
      "source": [
        "ad = Adequation()"
      ],
      "metadata": {
        "id": "3WhPM7TicT6z"
      },
      "execution_count": null,
      "outputs": []
    },
    {
      "cell_type": "code",
      "source": [
        "def f(x):\n",
        "  return x**2."
      ],
      "metadata": {
        "id": "Y-hQOHDlcRkG"
      },
      "execution_count": null,
      "outputs": []
    },
    {
      "cell_type": "code",
      "source": [
        "x = 0.5\n",
        "for _ in range(100):\n",
        "  end_node = f(Node(value=x))\n",
        "  print(x)\n",
        "  grad = visit(1., end_node)\n",
        "  x = x - 1e-1*grad"
      ],
      "metadata": {
        "id": "HLxxQj8VcbDN"
      },
      "execution_count": null,
      "outputs": []
    },
    {
      "cell_type": "markdown",
      "source": [
        "## Deuxième application: régression linéaire \n",
        "\n",
        "Considérons maintenant un problème de régression linéaire."
      ],
      "metadata": {
        "id": "mDYW6G8Iuz-a"
      }
    },
    {
      "cell_type": "code",
      "source": [
        "x = onp.linspace(0, 10, 100)\n",
        "y = 2.*x + onp.random.normal(0, 1, 100)"
      ],
      "metadata": {
        "id": "irrkDeETTN4o"
      },
      "execution_count": null,
      "outputs": []
    },
    {
      "cell_type": "markdown",
      "source": [
        "Implémentons maintenant l'erreur quadratique moyenne. "
      ],
      "metadata": {
        "id": "zPAzhRWagx1h"
      }
    },
    {
      "cell_type": "code",
      "source": [
        "def loss(w, x, y):\n",
        "    # w: poids (vecteur colonne de dimension d)\n",
        "    # x: données (matrice de dimension n x d)\n",
        "    # y: étiquettes (vecteur colonne de dimension n)\n",
        "    \n",
        "    n = x.shape[0]  # nombre d'exemples\n",
        "    y_pred = x.dot(w)  # prédiction de y\n",
        "    \n",
        "    mse = np.sum((y_pred - y)**2) / n\n",
        "    \n",
        "    return mse"
      ],
      "metadata": {
        "id": "2wsZypg9u7i0"
      },
      "execution_count": null,
      "outputs": []
    },
    {
      "cell_type": "markdown",
      "source": [
        "La procédure de descent de gradient suivante devrait pouvoir retrouver le coefficient d'origine de la droite d'origine. "
      ],
      "metadata": {
        "id": "wE_x5l3BhB65"
      }
    },
    {
      "cell_type": "code",
      "source": [
        "w = 0.5\n",
        "niter = 100\n",
        "errors = onp.zeros((niter))\n",
        "for i in range(niter):\n",
        "  end_node = loss(Node(value=w), x, y)\n",
        "  grad = visit(1., end_node)\n",
        "  w = w - 1e-3*grad\n",
        "  errors[i] = end_node.value\n",
        "plt.plot(errors)\n",
        "plt.title('Training curve')\n",
        "plt.xlabel('Iterations')\n",
        "plt.ylabel('MSE')"
      ],
      "metadata": {
        "id": "GFfsBHyib8pD"
      },
      "execution_count": null,
      "outputs": []
    },
    {
      "cell_type": "code",
      "source": [
        "plt.plot(x, onp.dot(x, w), c='r')\n",
        "plt.scatter(x, y)\n",
        "plt.legend(['fit', 'data'])"
      ],
      "metadata": {
        "colab": {
          "base_uri": "https://localhost:8080/",
          "height": 370
        },
        "id": "bA3CbHYtYsX6",
        "outputId": "789bd765-2f89-4f80-f591-23368534386b"
      },
      "execution_count": null,
      "outputs": [
        {
          "output_type": "execute_result",
          "data": {
            "text/plain": [
              "<matplotlib.legend.Legend at 0x7efcc3d10d60>"
            ]
          },
          "metadata": {},
          "execution_count": 60
        },
        {
          "output_type": "display_data",
          "data": {
            "text/plain": [
              "<Figure size 432x288 with 1 Axes>"
            ],
            "image/svg+xml": "<?xml version=\"1.0\" encoding=\"utf-8\" standalone=\"no\"?>\n<!DOCTYPE svg PUBLIC \"-//W3C//DTD SVG 1.1//EN\"\n  \"http://www.w3.org/Graphics/SVG/1.1/DTD/svg11.dtd\">\n<svg xmlns:xlink=\"http://www.w3.org/1999/xlink\" width=\"368.925pt\" height=\"248.518125pt\" viewBox=\"0 0 368.925 248.518125\" xmlns=\"http://www.w3.org/2000/svg\" version=\"1.1\">\n <metadata>\n  <rdf:RDF xmlns:dc=\"http://purl.org/dc/elements/1.1/\" xmlns:cc=\"http://creativecommons.org/ns#\" xmlns:rdf=\"http://www.w3.org/1999/02/22-rdf-syntax-ns#\">\n   <cc:Work>\n    <dc:type rdf:resource=\"http://purl.org/dc/dcmitype/StillImage\"/>\n    <dc:date>2023-03-11T05:14:42.307586</dc:date>\n    <dc:format>image/svg+xml</dc:format>\n    <dc:creator>\n     <cc:Agent>\n      <dc:title>Matplotlib v3.5.3, https://matplotlib.org/</dc:title>\n     </cc:Agent>\n    </dc:creator>\n   </cc:Work>\n  </rdf:RDF>\n </metadata>\n <defs>\n  <style type=\"text/css\">*{stroke-linejoin: round; stroke-linecap: butt}</style>\n </defs>\n <g id=\"figure_1\">\n  <g id=\"patch_1\">\n   <path d=\"M -0 248.518125 \nL 368.925 248.518125 \nL 368.925 0 \nL -0 0 \nL -0 248.518125 \nz\n\" style=\"fill: none\"/>\n  </g>\n  <g id=\"axes_1\">\n   <g id=\"patch_2\">\n    <path d=\"M 26.925 224.64 \nL 361.725 224.64 \nL 361.725 7.2 \nL 26.925 7.2 \nz\n\" style=\"fill: #ffffff\"/>\n   </g>\n   <g id=\"PathCollection_1\">\n    <defs>\n     <path id=\"mb671ea3a31\" d=\"M 0 3 \nC 0.795609 3 1.55874 2.683901 2.12132 2.12132 \nC 2.683901 1.55874 3 0.795609 3 0 \nC 3 -0.795609 2.683901 -1.55874 2.12132 -2.12132 \nC 1.55874 -2.683901 0.795609 -3 0 -3 \nC -0.795609 -3 -1.55874 -2.683901 -2.12132 -2.12132 \nC -2.683901 -1.55874 -3 -0.795609 -3 0 \nC -3 0.795609 -2.683901 1.55874 -2.12132 2.12132 \nC -1.55874 2.683901 -0.795609 3 0 3 \nz\n\" style=\"stroke: #1f77b4\"/>\n    </defs>\n    <g clip-path=\"url(#p676a0d9fdf)\">\n     <use xlink:href=\"#mb671ea3a31\" x=\"42.143182\" y=\"214.756364\" style=\"fill: #1f77b4; stroke: #1f77b4\"/>\n     <use xlink:href=\"#mb671ea3a31\" x=\"45.217562\" y=\"202.13524\" style=\"fill: #1f77b4; stroke: #1f77b4\"/>\n     <use xlink:href=\"#mb671ea3a31\" x=\"48.291942\" y=\"195.982442\" style=\"fill: #1f77b4; stroke: #1f77b4\"/>\n     <use xlink:href=\"#mb671ea3a31\" x=\"51.366322\" y=\"192.146626\" style=\"fill: #1f77b4; stroke: #1f77b4\"/>\n     <use xlink:href=\"#mb671ea3a31\" x=\"54.440702\" y=\"203.800441\" style=\"fill: #1f77b4; stroke: #1f77b4\"/>\n     <use xlink:href=\"#mb671ea3a31\" x=\"57.515083\" y=\"196.005665\" style=\"fill: #1f77b4; stroke: #1f77b4\"/>\n     <use xlink:href=\"#mb671ea3a31\" x=\"60.589463\" y=\"198.207286\" style=\"fill: #1f77b4; stroke: #1f77b4\"/>\n     <use xlink:href=\"#mb671ea3a31\" x=\"63.663843\" y=\"187.558233\" style=\"fill: #1f77b4; stroke: #1f77b4\"/>\n     <use xlink:href=\"#mb671ea3a31\" x=\"66.738223\" y=\"202.840808\" style=\"fill: #1f77b4; stroke: #1f77b4\"/>\n     <use xlink:href=\"#mb671ea3a31\" x=\"69.812603\" y=\"180.796304\" style=\"fill: #1f77b4; stroke: #1f77b4\"/>\n     <use xlink:href=\"#mb671ea3a31\" x=\"72.886983\" y=\"202.728253\" style=\"fill: #1f77b4; stroke: #1f77b4\"/>\n     <use xlink:href=\"#mb671ea3a31\" x=\"75.961364\" y=\"190.681599\" style=\"fill: #1f77b4; stroke: #1f77b4\"/>\n     <use xlink:href=\"#mb671ea3a31\" x=\"79.035744\" y=\"204.526284\" style=\"fill: #1f77b4; stroke: #1f77b4\"/>\n     <use xlink:href=\"#mb671ea3a31\" x=\"82.110124\" y=\"179.036031\" style=\"fill: #1f77b4; stroke: #1f77b4\"/>\n     <use xlink:href=\"#mb671ea3a31\" x=\"85.184504\" y=\"179.288688\" style=\"fill: #1f77b4; stroke: #1f77b4\"/>\n     <use xlink:href=\"#mb671ea3a31\" x=\"88.258884\" y=\"187.23806\" style=\"fill: #1f77b4; stroke: #1f77b4\"/>\n     <use xlink:href=\"#mb671ea3a31\" x=\"91.333264\" y=\"188.338808\" style=\"fill: #1f77b4; stroke: #1f77b4\"/>\n     <use xlink:href=\"#mb671ea3a31\" x=\"94.407645\" y=\"188.616751\" style=\"fill: #1f77b4; stroke: #1f77b4\"/>\n     <use xlink:href=\"#mb671ea3a31\" x=\"97.482025\" y=\"188.153551\" style=\"fill: #1f77b4; stroke: #1f77b4\"/>\n     <use xlink:href=\"#mb671ea3a31\" x=\"100.556405\" y=\"180.581167\" style=\"fill: #1f77b4; stroke: #1f77b4\"/>\n     <use xlink:href=\"#mb671ea3a31\" x=\"103.630785\" y=\"177.535344\" style=\"fill: #1f77b4; stroke: #1f77b4\"/>\n     <use xlink:href=\"#mb671ea3a31\" x=\"106.705165\" y=\"163.67356\" style=\"fill: #1f77b4; stroke: #1f77b4\"/>\n     <use xlink:href=\"#mb671ea3a31\" x=\"109.779545\" y=\"177.31262\" style=\"fill: #1f77b4; stroke: #1f77b4\"/>\n     <use xlink:href=\"#mb671ea3a31\" x=\"112.853926\" y=\"172.454348\" style=\"fill: #1f77b4; stroke: #1f77b4\"/>\n     <use xlink:href=\"#mb671ea3a31\" x=\"115.928306\" y=\"177.226175\" style=\"fill: #1f77b4; stroke: #1f77b4\"/>\n     <use xlink:href=\"#mb671ea3a31\" x=\"119.002686\" y=\"170.989583\" style=\"fill: #1f77b4; stroke: #1f77b4\"/>\n     <use xlink:href=\"#mb671ea3a31\" x=\"122.077066\" y=\"151.071274\" style=\"fill: #1f77b4; stroke: #1f77b4\"/>\n     <use xlink:href=\"#mb671ea3a31\" x=\"125.151446\" y=\"150.035575\" style=\"fill: #1f77b4; stroke: #1f77b4\"/>\n     <use xlink:href=\"#mb671ea3a31\" x=\"128.225826\" y=\"150.145239\" style=\"fill: #1f77b4; stroke: #1f77b4\"/>\n     <use xlink:href=\"#mb671ea3a31\" x=\"131.300207\" y=\"154.982973\" style=\"fill: #1f77b4; stroke: #1f77b4\"/>\n     <use xlink:href=\"#mb671ea3a31\" x=\"134.374587\" y=\"140.88315\" style=\"fill: #1f77b4; stroke: #1f77b4\"/>\n     <use xlink:href=\"#mb671ea3a31\" x=\"137.448967\" y=\"159.905285\" style=\"fill: #1f77b4; stroke: #1f77b4\"/>\n     <use xlink:href=\"#mb671ea3a31\" x=\"140.523347\" y=\"157.502608\" style=\"fill: #1f77b4; stroke: #1f77b4\"/>\n     <use xlink:href=\"#mb671ea3a31\" x=\"143.597727\" y=\"148.274214\" style=\"fill: #1f77b4; stroke: #1f77b4\"/>\n     <use xlink:href=\"#mb671ea3a31\" x=\"146.672107\" y=\"162.004662\" style=\"fill: #1f77b4; stroke: #1f77b4\"/>\n     <use xlink:href=\"#mb671ea3a31\" x=\"149.746488\" y=\"139.696944\" style=\"fill: #1f77b4; stroke: #1f77b4\"/>\n     <use xlink:href=\"#mb671ea3a31\" x=\"152.820868\" y=\"155.623308\" style=\"fill: #1f77b4; stroke: #1f77b4\"/>\n     <use xlink:href=\"#mb671ea3a31\" x=\"155.895248\" y=\"139.34414\" style=\"fill: #1f77b4; stroke: #1f77b4\"/>\n     <use xlink:href=\"#mb671ea3a31\" x=\"158.969628\" y=\"139.768592\" style=\"fill: #1f77b4; stroke: #1f77b4\"/>\n     <use xlink:href=\"#mb671ea3a31\" x=\"162.044008\" y=\"135.498227\" style=\"fill: #1f77b4; stroke: #1f77b4\"/>\n     <use xlink:href=\"#mb671ea3a31\" x=\"165.118388\" y=\"132.381575\" style=\"fill: #1f77b4; stroke: #1f77b4\"/>\n     <use xlink:href=\"#mb671ea3a31\" x=\"168.192769\" y=\"138.71655\" style=\"fill: #1f77b4; stroke: #1f77b4\"/>\n     <use xlink:href=\"#mb671ea3a31\" x=\"171.267149\" y=\"143.075241\" style=\"fill: #1f77b4; stroke: #1f77b4\"/>\n     <use xlink:href=\"#mb671ea3a31\" x=\"174.341529\" y=\"128.419199\" style=\"fill: #1f77b4; stroke: #1f77b4\"/>\n     <use xlink:href=\"#mb671ea3a31\" x=\"177.415909\" y=\"119.383608\" style=\"fill: #1f77b4; stroke: #1f77b4\"/>\n     <use xlink:href=\"#mb671ea3a31\" x=\"180.490289\" y=\"109.388091\" style=\"fill: #1f77b4; stroke: #1f77b4\"/>\n     <use xlink:href=\"#mb671ea3a31\" x=\"183.564669\" y=\"127.838792\" style=\"fill: #1f77b4; stroke: #1f77b4\"/>\n     <use xlink:href=\"#mb671ea3a31\" x=\"186.63905\" y=\"114.848916\" style=\"fill: #1f77b4; stroke: #1f77b4\"/>\n     <use xlink:href=\"#mb671ea3a31\" x=\"189.71343\" y=\"121.170036\" style=\"fill: #1f77b4; stroke: #1f77b4\"/>\n     <use xlink:href=\"#mb671ea3a31\" x=\"192.78781\" y=\"110.79818\" style=\"fill: #1f77b4; stroke: #1f77b4\"/>\n     <use xlink:href=\"#mb671ea3a31\" x=\"195.86219\" y=\"115.782927\" style=\"fill: #1f77b4; stroke: #1f77b4\"/>\n     <use xlink:href=\"#mb671ea3a31\" x=\"198.93657\" y=\"111.723101\" style=\"fill: #1f77b4; stroke: #1f77b4\"/>\n     <use xlink:href=\"#mb671ea3a31\" x=\"202.01095\" y=\"120.586538\" style=\"fill: #1f77b4; stroke: #1f77b4\"/>\n     <use xlink:href=\"#mb671ea3a31\" x=\"205.085331\" y=\"121.261286\" style=\"fill: #1f77b4; stroke: #1f77b4\"/>\n     <use xlink:href=\"#mb671ea3a31\" x=\"208.159711\" y=\"113.313793\" style=\"fill: #1f77b4; stroke: #1f77b4\"/>\n     <use xlink:href=\"#mb671ea3a31\" x=\"211.234091\" y=\"132.54674\" style=\"fill: #1f77b4; stroke: #1f77b4\"/>\n     <use xlink:href=\"#mb671ea3a31\" x=\"214.308471\" y=\"99.027275\" style=\"fill: #1f77b4; stroke: #1f77b4\"/>\n     <use xlink:href=\"#mb671ea3a31\" x=\"217.382851\" y=\"101.017274\" style=\"fill: #1f77b4; stroke: #1f77b4\"/>\n     <use xlink:href=\"#mb671ea3a31\" x=\"220.457231\" y=\"106.804395\" style=\"fill: #1f77b4; stroke: #1f77b4\"/>\n     <use xlink:href=\"#mb671ea3a31\" x=\"223.531612\" y=\"98.183949\" style=\"fill: #1f77b4; stroke: #1f77b4\"/>\n     <use xlink:href=\"#mb671ea3a31\" x=\"226.605992\" y=\"104.243149\" style=\"fill: #1f77b4; stroke: #1f77b4\"/>\n     <use xlink:href=\"#mb671ea3a31\" x=\"229.680372\" y=\"95.319242\" style=\"fill: #1f77b4; stroke: #1f77b4\"/>\n     <use xlink:href=\"#mb671ea3a31\" x=\"232.754752\" y=\"88.817918\" style=\"fill: #1f77b4; stroke: #1f77b4\"/>\n     <use xlink:href=\"#mb671ea3a31\" x=\"235.829132\" y=\"90.332392\" style=\"fill: #1f77b4; stroke: #1f77b4\"/>\n     <use xlink:href=\"#mb671ea3a31\" x=\"238.903512\" y=\"96.018762\" style=\"fill: #1f77b4; stroke: #1f77b4\"/>\n     <use xlink:href=\"#mb671ea3a31\" x=\"241.977893\" y=\"92.002641\" style=\"fill: #1f77b4; stroke: #1f77b4\"/>\n     <use xlink:href=\"#mb671ea3a31\" x=\"245.052273\" y=\"80.9673\" style=\"fill: #1f77b4; stroke: #1f77b4\"/>\n     <use xlink:href=\"#mb671ea3a31\" x=\"248.126653\" y=\"88.111686\" style=\"fill: #1f77b4; stroke: #1f77b4\"/>\n     <use xlink:href=\"#mb671ea3a31\" x=\"251.201033\" y=\"83.499444\" style=\"fill: #1f77b4; stroke: #1f77b4\"/>\n     <use xlink:href=\"#mb671ea3a31\" x=\"254.275413\" y=\"79.910554\" style=\"fill: #1f77b4; stroke: #1f77b4\"/>\n     <use xlink:href=\"#mb671ea3a31\" x=\"257.349793\" y=\"72.963737\" style=\"fill: #1f77b4; stroke: #1f77b4\"/>\n     <use xlink:href=\"#mb671ea3a31\" x=\"260.424174\" y=\"82.212342\" style=\"fill: #1f77b4; stroke: #1f77b4\"/>\n     <use xlink:href=\"#mb671ea3a31\" x=\"263.498554\" y=\"69.210089\" style=\"fill: #1f77b4; stroke: #1f77b4\"/>\n     <use xlink:href=\"#mb671ea3a31\" x=\"266.572934\" y=\"68.968338\" style=\"fill: #1f77b4; stroke: #1f77b4\"/>\n     <use xlink:href=\"#mb671ea3a31\" x=\"269.647314\" y=\"64.672529\" style=\"fill: #1f77b4; stroke: #1f77b4\"/>\n     <use xlink:href=\"#mb671ea3a31\" x=\"272.721694\" y=\"67.934333\" style=\"fill: #1f77b4; stroke: #1f77b4\"/>\n     <use xlink:href=\"#mb671ea3a31\" x=\"275.796074\" y=\"69.287111\" style=\"fill: #1f77b4; stroke: #1f77b4\"/>\n     <use xlink:href=\"#mb671ea3a31\" x=\"278.870455\" y=\"84.102624\" style=\"fill: #1f77b4; stroke: #1f77b4\"/>\n     <use xlink:href=\"#mb671ea3a31\" x=\"281.944835\" y=\"62.847199\" style=\"fill: #1f77b4; stroke: #1f77b4\"/>\n     <use xlink:href=\"#mb671ea3a31\" x=\"285.019215\" y=\"60.654591\" style=\"fill: #1f77b4; stroke: #1f77b4\"/>\n     <use xlink:href=\"#mb671ea3a31\" x=\"288.093595\" y=\"40.650023\" style=\"fill: #1f77b4; stroke: #1f77b4\"/>\n     <use xlink:href=\"#mb671ea3a31\" x=\"291.167975\" y=\"78.932177\" style=\"fill: #1f77b4; stroke: #1f77b4\"/>\n     <use xlink:href=\"#mb671ea3a31\" x=\"294.242355\" y=\"65.386456\" style=\"fill: #1f77b4; stroke: #1f77b4\"/>\n     <use xlink:href=\"#mb671ea3a31\" x=\"297.316736\" y=\"44.883079\" style=\"fill: #1f77b4; stroke: #1f77b4\"/>\n     <use xlink:href=\"#mb671ea3a31\" x=\"300.391116\" y=\"56.128441\" style=\"fill: #1f77b4; stroke: #1f77b4\"/>\n     <use xlink:href=\"#mb671ea3a31\" x=\"303.465496\" y=\"47.903965\" style=\"fill: #1f77b4; stroke: #1f77b4\"/>\n     <use xlink:href=\"#mb671ea3a31\" x=\"306.539876\" y=\"38.385644\" style=\"fill: #1f77b4; stroke: #1f77b4\"/>\n     <use xlink:href=\"#mb671ea3a31\" x=\"309.614256\" y=\"27.974779\" style=\"fill: #1f77b4; stroke: #1f77b4\"/>\n     <use xlink:href=\"#mb671ea3a31\" x=\"312.688636\" y=\"42.516146\" style=\"fill: #1f77b4; stroke: #1f77b4\"/>\n     <use xlink:href=\"#mb671ea3a31\" x=\"315.763017\" y=\"19.416396\" style=\"fill: #1f77b4; stroke: #1f77b4\"/>\n     <use xlink:href=\"#mb671ea3a31\" x=\"318.837397\" y=\"48.19471\" style=\"fill: #1f77b4; stroke: #1f77b4\"/>\n     <use xlink:href=\"#mb671ea3a31\" x=\"321.911777\" y=\"37.710374\" style=\"fill: #1f77b4; stroke: #1f77b4\"/>\n     <use xlink:href=\"#mb671ea3a31\" x=\"324.986157\" y=\"51.73813\" style=\"fill: #1f77b4; stroke: #1f77b4\"/>\n     <use xlink:href=\"#mb671ea3a31\" x=\"328.060537\" y=\"22.535428\" style=\"fill: #1f77b4; stroke: #1f77b4\"/>\n     <use xlink:href=\"#mb671ea3a31\" x=\"331.134917\" y=\"35.080179\" style=\"fill: #1f77b4; stroke: #1f77b4\"/>\n     <use xlink:href=\"#mb671ea3a31\" x=\"334.209298\" y=\"31.135296\" style=\"fill: #1f77b4; stroke: #1f77b4\"/>\n     <use xlink:href=\"#mb671ea3a31\" x=\"337.283678\" y=\"21.829153\" style=\"fill: #1f77b4; stroke: #1f77b4\"/>\n     <use xlink:href=\"#mb671ea3a31\" x=\"340.358058\" y=\"23.561895\" style=\"fill: #1f77b4; stroke: #1f77b4\"/>\n     <use xlink:href=\"#mb671ea3a31\" x=\"343.432438\" y=\"27.906874\" style=\"fill: #1f77b4; stroke: #1f77b4\"/>\n     <use xlink:href=\"#mb671ea3a31\" x=\"346.506818\" y=\"17.083636\" style=\"fill: #1f77b4; stroke: #1f77b4\"/>\n    </g>\n   </g>\n   <g id=\"matplotlib.axis_1\">\n    <g id=\"xtick_1\">\n     <g id=\"line2d_1\">\n      <defs>\n       <path id=\"m5db95a69b2\" d=\"M 0 0 \nL 0 3.5 \n\" style=\"stroke: #000000; stroke-width: 0.8\"/>\n      </defs>\n      <g>\n       <use xlink:href=\"#m5db95a69b2\" x=\"42.143182\" y=\"224.64\" style=\"stroke: #000000; stroke-width: 0.8\"/>\n      </g>\n     </g>\n     <g id=\"text_1\">\n      <!-- 0 -->\n      <g transform=\"translate(38.961932 239.238437)scale(0.1 -0.1)\">\n       <defs>\n        <path id=\"DejaVuSans-30\" d=\"M 2034 4250 \nQ 1547 4250 1301 3770 \nQ 1056 3291 1056 2328 \nQ 1056 1369 1301 889 \nQ 1547 409 2034 409 \nQ 2525 409 2770 889 \nQ 3016 1369 3016 2328 \nQ 3016 3291 2770 3770 \nQ 2525 4250 2034 4250 \nz\nM 2034 4750 \nQ 2819 4750 3233 4129 \nQ 3647 3509 3647 2328 \nQ 3647 1150 3233 529 \nQ 2819 -91 2034 -91 \nQ 1250 -91 836 529 \nQ 422 1150 422 2328 \nQ 422 3509 836 4129 \nQ 1250 4750 2034 4750 \nz\n\" transform=\"scale(0.015625)\"/>\n       </defs>\n       <use xlink:href=\"#DejaVuSans-30\"/>\n      </g>\n     </g>\n    </g>\n    <g id=\"xtick_2\">\n     <g id=\"line2d_2\">\n      <g>\n       <use xlink:href=\"#m5db95a69b2\" x=\"103.015909\" y=\"224.64\" style=\"stroke: #000000; stroke-width: 0.8\"/>\n      </g>\n     </g>\n     <g id=\"text_2\">\n      <!-- 2 -->\n      <g transform=\"translate(99.834659 239.238437)scale(0.1 -0.1)\">\n       <defs>\n        <path id=\"DejaVuSans-32\" d=\"M 1228 531 \nL 3431 531 \nL 3431 0 \nL 469 0 \nL 469 531 \nQ 828 903 1448 1529 \nQ 2069 2156 2228 2338 \nQ 2531 2678 2651 2914 \nQ 2772 3150 2772 3378 \nQ 2772 3750 2511 3984 \nQ 2250 4219 1831 4219 \nQ 1534 4219 1204 4116 \nQ 875 4013 500 3803 \nL 500 4441 \nQ 881 4594 1212 4672 \nQ 1544 4750 1819 4750 \nQ 2544 4750 2975 4387 \nQ 3406 4025 3406 3419 \nQ 3406 3131 3298 2873 \nQ 3191 2616 2906 2266 \nQ 2828 2175 2409 1742 \nQ 1991 1309 1228 531 \nz\n\" transform=\"scale(0.015625)\"/>\n       </defs>\n       <use xlink:href=\"#DejaVuSans-32\"/>\n      </g>\n     </g>\n    </g>\n    <g id=\"xtick_3\">\n     <g id=\"line2d_3\">\n      <g>\n       <use xlink:href=\"#m5db95a69b2\" x=\"163.888636\" y=\"224.64\" style=\"stroke: #000000; stroke-width: 0.8\"/>\n      </g>\n     </g>\n     <g id=\"text_3\">\n      <!-- 4 -->\n      <g transform=\"translate(160.707386 239.238437)scale(0.1 -0.1)\">\n       <defs>\n        <path id=\"DejaVuSans-34\" d=\"M 2419 4116 \nL 825 1625 \nL 2419 1625 \nL 2419 4116 \nz\nM 2253 4666 \nL 3047 4666 \nL 3047 1625 \nL 3713 1625 \nL 3713 1100 \nL 3047 1100 \nL 3047 0 \nL 2419 0 \nL 2419 1100 \nL 313 1100 \nL 313 1709 \nL 2253 4666 \nz\n\" transform=\"scale(0.015625)\"/>\n       </defs>\n       <use xlink:href=\"#DejaVuSans-34\"/>\n      </g>\n     </g>\n    </g>\n    <g id=\"xtick_4\">\n     <g id=\"line2d_4\">\n      <g>\n       <use xlink:href=\"#m5db95a69b2\" x=\"224.761364\" y=\"224.64\" style=\"stroke: #000000; stroke-width: 0.8\"/>\n      </g>\n     </g>\n     <g id=\"text_4\">\n      <!-- 6 -->\n      <g transform=\"translate(221.580114 239.238437)scale(0.1 -0.1)\">\n       <defs>\n        <path id=\"DejaVuSans-36\" d=\"M 2113 2584 \nQ 1688 2584 1439 2293 \nQ 1191 2003 1191 1497 \nQ 1191 994 1439 701 \nQ 1688 409 2113 409 \nQ 2538 409 2786 701 \nQ 3034 994 3034 1497 \nQ 3034 2003 2786 2293 \nQ 2538 2584 2113 2584 \nz\nM 3366 4563 \nL 3366 3988 \nQ 3128 4100 2886 4159 \nQ 2644 4219 2406 4219 \nQ 1781 4219 1451 3797 \nQ 1122 3375 1075 2522 \nQ 1259 2794 1537 2939 \nQ 1816 3084 2150 3084 \nQ 2853 3084 3261 2657 \nQ 3669 2231 3669 1497 \nQ 3669 778 3244 343 \nQ 2819 -91 2113 -91 \nQ 1303 -91 875 529 \nQ 447 1150 447 2328 \nQ 447 3434 972 4092 \nQ 1497 4750 2381 4750 \nQ 2619 4750 2861 4703 \nQ 3103 4656 3366 4563 \nz\n\" transform=\"scale(0.015625)\"/>\n       </defs>\n       <use xlink:href=\"#DejaVuSans-36\"/>\n      </g>\n     </g>\n    </g>\n    <g id=\"xtick_5\">\n     <g id=\"line2d_5\">\n      <g>\n       <use xlink:href=\"#m5db95a69b2\" x=\"285.634091\" y=\"224.64\" style=\"stroke: #000000; stroke-width: 0.8\"/>\n      </g>\n     </g>\n     <g id=\"text_5\">\n      <!-- 8 -->\n      <g transform=\"translate(282.452841 239.238437)scale(0.1 -0.1)\">\n       <defs>\n        <path id=\"DejaVuSans-38\" d=\"M 2034 2216 \nQ 1584 2216 1326 1975 \nQ 1069 1734 1069 1313 \nQ 1069 891 1326 650 \nQ 1584 409 2034 409 \nQ 2484 409 2743 651 \nQ 3003 894 3003 1313 \nQ 3003 1734 2745 1975 \nQ 2488 2216 2034 2216 \nz\nM 1403 2484 \nQ 997 2584 770 2862 \nQ 544 3141 544 3541 \nQ 544 4100 942 4425 \nQ 1341 4750 2034 4750 \nQ 2731 4750 3128 4425 \nQ 3525 4100 3525 3541 \nQ 3525 3141 3298 2862 \nQ 3072 2584 2669 2484 \nQ 3125 2378 3379 2068 \nQ 3634 1759 3634 1313 \nQ 3634 634 3220 271 \nQ 2806 -91 2034 -91 \nQ 1263 -91 848 271 \nQ 434 634 434 1313 \nQ 434 1759 690 2068 \nQ 947 2378 1403 2484 \nz\nM 1172 3481 \nQ 1172 3119 1398 2916 \nQ 1625 2713 2034 2713 \nQ 2441 2713 2670 2916 \nQ 2900 3119 2900 3481 \nQ 2900 3844 2670 4047 \nQ 2441 4250 2034 4250 \nQ 1625 4250 1398 4047 \nQ 1172 3844 1172 3481 \nz\n\" transform=\"scale(0.015625)\"/>\n       </defs>\n       <use xlink:href=\"#DejaVuSans-38\"/>\n      </g>\n     </g>\n    </g>\n    <g id=\"xtick_6\">\n     <g id=\"line2d_6\">\n      <g>\n       <use xlink:href=\"#m5db95a69b2\" x=\"346.506818\" y=\"224.64\" style=\"stroke: #000000; stroke-width: 0.8\"/>\n      </g>\n     </g>\n     <g id=\"text_6\">\n      <!-- 10 -->\n      <g transform=\"translate(340.144318 239.238437)scale(0.1 -0.1)\">\n       <defs>\n        <path id=\"DejaVuSans-31\" d=\"M 794 531 \nL 1825 531 \nL 1825 4091 \nL 703 3866 \nL 703 4441 \nL 1819 4666 \nL 2450 4666 \nL 2450 531 \nL 3481 531 \nL 3481 0 \nL 794 0 \nL 794 531 \nz\n\" transform=\"scale(0.015625)\"/>\n       </defs>\n       <use xlink:href=\"#DejaVuSans-31\"/>\n       <use xlink:href=\"#DejaVuSans-30\" x=\"63.623047\"/>\n      </g>\n     </g>\n    </g>\n   </g>\n   <g id=\"matplotlib.axis_2\">\n    <g id=\"ytick_1\">\n     <g id=\"line2d_7\">\n      <defs>\n       <path id=\"m65df28059e\" d=\"M 0 0 \nL -3.5 0 \n\" style=\"stroke: #000000; stroke-width: 0.8\"/>\n      </defs>\n      <g>\n       <use xlink:href=\"#m65df28059e\" x=\"26.925\" y=\"210.629416\" style=\"stroke: #000000; stroke-width: 0.8\"/>\n      </g>\n     </g>\n     <g id=\"text_7\">\n      <!-- 0 -->\n      <g transform=\"translate(13.5625 214.428634)scale(0.1 -0.1)\">\n       <use xlink:href=\"#DejaVuSans-30\"/>\n      </g>\n     </g>\n    </g>\n    <g id=\"ytick_2\">\n     <g id=\"line2d_8\">\n      <g>\n       <use xlink:href=\"#m65df28059e\" x=\"26.925\" y=\"164.02707\" style=\"stroke: #000000; stroke-width: 0.8\"/>\n      </g>\n     </g>\n     <g id=\"text_8\">\n      <!-- 5 -->\n      <g transform=\"translate(13.5625 167.826289)scale(0.1 -0.1)\">\n       <defs>\n        <path id=\"DejaVuSans-35\" d=\"M 691 4666 \nL 3169 4666 \nL 3169 4134 \nL 1269 4134 \nL 1269 2991 \nQ 1406 3038 1543 3061 \nQ 1681 3084 1819 3084 \nQ 2600 3084 3056 2656 \nQ 3513 2228 3513 1497 \nQ 3513 744 3044 326 \nQ 2575 -91 1722 -91 \nQ 1428 -91 1123 -41 \nQ 819 9 494 109 \nL 494 744 \nQ 775 591 1075 516 \nQ 1375 441 1709 441 \nQ 2250 441 2565 725 \nQ 2881 1009 2881 1497 \nQ 2881 1984 2565 2268 \nQ 2250 2553 1709 2553 \nQ 1456 2553 1204 2497 \nQ 953 2441 691 2322 \nL 691 4666 \nz\n\" transform=\"scale(0.015625)\"/>\n       </defs>\n       <use xlink:href=\"#DejaVuSans-35\"/>\n      </g>\n     </g>\n    </g>\n    <g id=\"ytick_3\">\n     <g id=\"line2d_9\">\n      <g>\n       <use xlink:href=\"#m65df28059e\" x=\"26.925\" y=\"117.424725\" style=\"stroke: #000000; stroke-width: 0.8\"/>\n      </g>\n     </g>\n     <g id=\"text_9\">\n      <!-- 10 -->\n      <g transform=\"translate(7.2 121.223943)scale(0.1 -0.1)\">\n       <use xlink:href=\"#DejaVuSans-31\"/>\n       <use xlink:href=\"#DejaVuSans-30\" x=\"63.623047\"/>\n      </g>\n     </g>\n    </g>\n    <g id=\"ytick_4\">\n     <g id=\"line2d_10\">\n      <g>\n       <use xlink:href=\"#m65df28059e\" x=\"26.925\" y=\"70.822379\" style=\"stroke: #000000; stroke-width: 0.8\"/>\n      </g>\n     </g>\n     <g id=\"text_10\">\n      <!-- 15 -->\n      <g transform=\"translate(7.2 74.621598)scale(0.1 -0.1)\">\n       <use xlink:href=\"#DejaVuSans-31\"/>\n       <use xlink:href=\"#DejaVuSans-35\" x=\"63.623047\"/>\n      </g>\n     </g>\n    </g>\n    <g id=\"ytick_5\">\n     <g id=\"line2d_11\">\n      <g>\n       <use xlink:href=\"#m65df28059e\" x=\"26.925\" y=\"24.220034\" style=\"stroke: #000000; stroke-width: 0.8\"/>\n      </g>\n     </g>\n     <g id=\"text_11\">\n      <!-- 20 -->\n      <g transform=\"translate(7.2 28.019253)scale(0.1 -0.1)\">\n       <use xlink:href=\"#DejaVuSans-32\"/>\n       <use xlink:href=\"#DejaVuSans-30\" x=\"63.623047\"/>\n      </g>\n     </g>\n    </g>\n   </g>\n   <g id=\"line2d_12\">\n    <path d=\"M 42.143182 210.629416 \nL 45.217562 210.158685 \nL 48.291942 209.687954 \nL 51.366322 209.217223 \nL 54.440702 208.746492 \nL 57.515083 208.275762 \nL 60.589463 207.805031 \nL 63.663843 207.3343 \nL 66.738223 206.863569 \nL 69.812603 206.392839 \nL 72.886983 205.922108 \nL 75.961364 205.451377 \nL 79.035744 204.980646 \nL 82.110124 204.509916 \nL 85.184504 204.039185 \nL 88.258884 203.568454 \nL 91.333264 203.097723 \nL 94.407645 202.626993 \nL 97.482025 202.156262 \nL 100.556405 201.685531 \nL 103.630785 201.2148 \nL 106.705165 200.74407 \nL 109.779545 200.273339 \nL 112.853926 199.802608 \nL 115.928306 199.331877 \nL 119.002686 198.861146 \nL 122.077066 198.390416 \nL 125.151446 197.919685 \nL 128.225826 197.448954 \nL 131.300207 196.978223 \nL 134.374587 196.507493 \nL 137.448967 196.036762 \nL 140.523347 195.566031 \nL 143.597727 195.0953 \nL 146.672107 194.62457 \nL 149.746488 194.153839 \nL 152.820868 193.683108 \nL 155.895248 193.212377 \nL 158.969628 192.741647 \nL 162.044008 192.270916 \nL 165.118388 191.800185 \nL 168.192769 191.329454 \nL 171.267149 190.858724 \nL 174.341529 190.387993 \nL 177.415909 189.917262 \nL 180.490289 189.446531 \nL 183.564669 188.9758 \nL 186.63905 188.50507 \nL 189.71343 188.034339 \nL 192.78781 187.563608 \nL 195.86219 187.092877 \nL 198.93657 186.622147 \nL 202.01095 186.151416 \nL 205.085331 185.680685 \nL 208.159711 185.209954 \nL 211.234091 184.739224 \nL 214.308471 184.268493 \nL 217.382851 183.797762 \nL 220.457231 183.327031 \nL 223.531612 182.856301 \nL 226.605992 182.38557 \nL 229.680372 181.914839 \nL 232.754752 181.444108 \nL 235.829132 180.973378 \nL 238.903512 180.502647 \nL 241.977893 180.031916 \nL 245.052273 179.561185 \nL 248.126653 179.090454 \nL 251.201033 178.619724 \nL 254.275413 178.148993 \nL 257.349793 177.678262 \nL 260.424174 177.207531 \nL 263.498554 176.736801 \nL 266.572934 176.26607 \nL 269.647314 175.795339 \nL 272.721694 175.324608 \nL 275.796074 174.853878 \nL 278.870455 174.383147 \nL 281.944835 173.912416 \nL 285.019215 173.441685 \nL 288.093595 172.970955 \nL 291.167975 172.500224 \nL 294.242355 172.029493 \nL 297.316736 171.558762 \nL 300.391116 171.088032 \nL 303.465496 170.617301 \nL 306.539876 170.14657 \nL 309.614256 169.675839 \nL 312.688636 169.205108 \nL 315.763017 168.734378 \nL 318.837397 168.263647 \nL 321.911777 167.792916 \nL 324.986157 167.322185 \nL 328.060537 166.851455 \nL 331.134917 166.380724 \nL 334.209298 165.909993 \nL 337.283678 165.439262 \nL 340.358058 164.968532 \nL 343.432438 164.497801 \nL 346.506818 164.02707 \n\" clip-path=\"url(#p676a0d9fdf)\" style=\"fill: none; stroke: #ff0000; stroke-width: 1.5; stroke-linecap: square\"/>\n   </g>\n   <g id=\"patch_3\">\n    <path d=\"M 26.925 224.64 \nL 26.925 7.2 \n\" style=\"fill: none; stroke: #000000; stroke-width: 0.8; stroke-linejoin: miter; stroke-linecap: square\"/>\n   </g>\n   <g id=\"patch_4\">\n    <path d=\"M 361.725 224.64 \nL 361.725 7.2 \n\" style=\"fill: none; stroke: #000000; stroke-width: 0.8; stroke-linejoin: miter; stroke-linecap: square\"/>\n   </g>\n   <g id=\"patch_5\">\n    <path d=\"M 26.925 224.64 \nL 361.725 224.64 \n\" style=\"fill: none; stroke: #000000; stroke-width: 0.8; stroke-linejoin: miter; stroke-linecap: square\"/>\n   </g>\n   <g id=\"patch_6\">\n    <path d=\"M 26.925 7.2 \nL 361.725 7.2 \n\" style=\"fill: none; stroke: #000000; stroke-width: 0.8; stroke-linejoin: miter; stroke-linecap: square\"/>\n   </g>\n   <g id=\"legend_1\">\n    <g id=\"patch_7\">\n     <path d=\"M 33.925 44.55625 \nL 88.45 44.55625 \nQ 90.45 44.55625 90.45 42.55625 \nL 90.45 14.2 \nQ 90.45 12.2 88.45 12.2 \nL 33.925 12.2 \nQ 31.925 12.2 31.925 14.2 \nL 31.925 42.55625 \nQ 31.925 44.55625 33.925 44.55625 \nz\n\" style=\"fill: #ffffff; opacity: 0.8; stroke: #cccccc; stroke-linejoin: miter\"/>\n    </g>\n    <g id=\"line2d_13\">\n     <path d=\"M 35.925 20.298437 \nL 45.925 20.298437 \nL 55.925 20.298437 \n\" style=\"fill: none; stroke: #ff0000; stroke-width: 1.5; stroke-linecap: square\"/>\n    </g>\n    <g id=\"text_12\">\n     <!-- fit -->\n     <g transform=\"translate(63.925 23.798437)scale(0.1 -0.1)\">\n      <defs>\n       <path id=\"DejaVuSans-66\" d=\"M 2375 4863 \nL 2375 4384 \nL 1825 4384 \nQ 1516 4384 1395 4259 \nQ 1275 4134 1275 3809 \nL 1275 3500 \nL 2222 3500 \nL 2222 3053 \nL 1275 3053 \nL 1275 0 \nL 697 0 \nL 697 3053 \nL 147 3053 \nL 147 3500 \nL 697 3500 \nL 697 3744 \nQ 697 4328 969 4595 \nQ 1241 4863 1831 4863 \nL 2375 4863 \nz\n\" transform=\"scale(0.015625)\"/>\n       <path id=\"DejaVuSans-69\" d=\"M 603 3500 \nL 1178 3500 \nL 1178 0 \nL 603 0 \nL 603 3500 \nz\nM 603 4863 \nL 1178 4863 \nL 1178 4134 \nL 603 4134 \nL 603 4863 \nz\n\" transform=\"scale(0.015625)\"/>\n       <path id=\"DejaVuSans-74\" d=\"M 1172 4494 \nL 1172 3500 \nL 2356 3500 \nL 2356 3053 \nL 1172 3053 \nL 1172 1153 \nQ 1172 725 1289 603 \nQ 1406 481 1766 481 \nL 2356 481 \nL 2356 0 \nL 1766 0 \nQ 1100 0 847 248 \nQ 594 497 594 1153 \nL 594 3053 \nL 172 3053 \nL 172 3500 \nL 594 3500 \nL 594 4494 \nL 1172 4494 \nz\n\" transform=\"scale(0.015625)\"/>\n      </defs>\n      <use xlink:href=\"#DejaVuSans-66\"/>\n      <use xlink:href=\"#DejaVuSans-69\" x=\"35.205078\"/>\n      <use xlink:href=\"#DejaVuSans-74\" x=\"62.988281\"/>\n     </g>\n    </g>\n    <g id=\"PathCollection_2\">\n     <g>\n      <use xlink:href=\"#mb671ea3a31\" x=\"45.925\" y=\"35.851562\" style=\"fill: #1f77b4; stroke: #1f77b4\"/>\n     </g>\n    </g>\n    <g id=\"text_13\">\n     <!-- data -->\n     <g transform=\"translate(63.925 38.476562)scale(0.1 -0.1)\">\n      <defs>\n       <path id=\"DejaVuSans-64\" d=\"M 2906 2969 \nL 2906 4863 \nL 3481 4863 \nL 3481 0 \nL 2906 0 \nL 2906 525 \nQ 2725 213 2448 61 \nQ 2172 -91 1784 -91 \nQ 1150 -91 751 415 \nQ 353 922 353 1747 \nQ 353 2572 751 3078 \nQ 1150 3584 1784 3584 \nQ 2172 3584 2448 3432 \nQ 2725 3281 2906 2969 \nz\nM 947 1747 \nQ 947 1113 1208 752 \nQ 1469 391 1925 391 \nQ 2381 391 2643 752 \nQ 2906 1113 2906 1747 \nQ 2906 2381 2643 2742 \nQ 2381 3103 1925 3103 \nQ 1469 3103 1208 2742 \nQ 947 2381 947 1747 \nz\n\" transform=\"scale(0.015625)\"/>\n       <path id=\"DejaVuSans-61\" d=\"M 2194 1759 \nQ 1497 1759 1228 1600 \nQ 959 1441 959 1056 \nQ 959 750 1161 570 \nQ 1363 391 1709 391 \nQ 2188 391 2477 730 \nQ 2766 1069 2766 1631 \nL 2766 1759 \nL 2194 1759 \nz\nM 3341 1997 \nL 3341 0 \nL 2766 0 \nL 2766 531 \nQ 2569 213 2275 61 \nQ 1981 -91 1556 -91 \nQ 1019 -91 701 211 \nQ 384 513 384 1019 \nQ 384 1609 779 1909 \nQ 1175 2209 1959 2209 \nL 2766 2209 \nL 2766 2266 \nQ 2766 2663 2505 2880 \nQ 2244 3097 1772 3097 \nQ 1472 3097 1187 3025 \nQ 903 2953 641 2809 \nL 641 3341 \nQ 956 3463 1253 3523 \nQ 1550 3584 1831 3584 \nQ 2591 3584 2966 3190 \nQ 3341 2797 3341 1997 \nz\n\" transform=\"scale(0.015625)\"/>\n      </defs>\n      <use xlink:href=\"#DejaVuSans-64\"/>\n      <use xlink:href=\"#DejaVuSans-61\" x=\"63.476562\"/>\n      <use xlink:href=\"#DejaVuSans-74\" x=\"124.755859\"/>\n      <use xlink:href=\"#DejaVuSans-61\" x=\"163.964844\"/>\n     </g>\n    </g>\n   </g>\n  </g>\n </g>\n <defs>\n  <clipPath id=\"p676a0d9fdf\">\n   <rect x=\"26.925\" y=\"7.2\" width=\"334.8\" height=\"217.44\"/>\n  </clipPath>\n </defs>\n</svg>\n"
          },
          "metadata": {
            "needs_background": "light"
          }
        }
      ]
    },
    {
      "cell_type": "markdown",
      "source": [
        "# Partie 5: extensions\n",
        "\n",
        "Soit une fonction à plusieurs arguments de la forme $f(x, y, z)$. Expliquez comment nous pouvons utiliser l'approche développée ici pour calculer la dérivée partielle de cette fonction par rapport à tout argument, autre que seulement le premier, ou bien au-delà des fonctions à un seul argument de la forme $f(x)$. Tous les morceaux devraient être en place sans avoir à changer quoique ce soit dans ``trace`` ou ``visit`` pour y arriver. Il suffit ici de généraliser les étapes manuelles d'appel à ``visit`` et de création de bases standard à l'aide de ``standard_basis``.\n",
        "\n",
        "Maintenant, implémentez une fonction ``grad`` permet de calculer le gradient d'une fonction par rapport à un argument donné ``argnum``."
      ],
      "metadata": {
        "id": "8bcYgCMekaRt"
      }
    },
    {
      "cell_type": "code",
      "source": [
        "def jacobian(func, argnum):\n",
        "    def jacfun(*primals):\n",
        "        # On crée une base standard pour chaque argument de différentiation\n",
        "        bases = [standard_basis(primals[i]) if i == argnum else None for i in range(len(primals))]\n",
        "        # On appelle trace pour enregistrer les opérations\n",
        "        ans = trace(func)(*primals, *bases)\n",
        "        # On propage les vecteurs adjoints en partant des sources correspondant aux arguments de différentiation souhaités\n",
        "        adjoints = [ones_like(ans) if i == argnum else None for i in range(len(primals))]\n",
        "        return visit(ans, adjoints)\n",
        "    return jacfun"
      ],
      "metadata": {
        "id": "q7kimqxJlgko"
      },
      "execution_count": null,
      "outputs": []
    },
    {
      "cell_type": "markdown",
      "source": [
        "Proposez un exemple pour vérifier votre réponse. "
      ],
      "metadata": {
        "id": "0MXnmlaFmA9I"
      }
    },
    {
      "cell_type": "code",
      "source": [
        "Rien qui fonctionne malheureusement, je suspecte une erreur dans ma fonction visit mais je ne peux le faire fonctionner. "
      ],
      "metadata": {
        "id": "Vi0ep2w2tWrp"
      },
      "execution_count": null,
      "outputs": []
    }
  ]
}